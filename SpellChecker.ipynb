{
 "cells": [
  {
   "cell_type": "code",
   "execution_count": 1,
   "id": "17e50d4f",
   "metadata": {},
   "outputs": [],
   "source": [
    "import nltk"
   ]
  },
  {
   "cell_type": "code",
   "execution_count": 2,
   "id": "e2e50369",
   "metadata": {},
   "outputs": [],
   "source": [
    "from nltk.corpus import words"
   ]
  },
  {
   "cell_type": "code",
   "execution_count": 4,
   "id": "e6ba4dfe",
   "metadata": {},
   "outputs": [
    {
     "name": "stderr",
     "output_type": "stream",
     "text": [
      "[nltk_data] Downloading package words to /home/cyber2/nltk_data...\n",
      "[nltk_data]   Unzipping corpora/words.zip.\n"
     ]
    },
    {
     "data": {
      "text/plain": [
       "True"
      ]
     },
     "execution_count": 4,
     "metadata": {},
     "output_type": "execute_result"
    }
   ],
   "source": [
    "nltk.download(\"words\")"
   ]
  },
  {
   "cell_type": "code",
   "execution_count": null,
   "id": "21a4b09f",
   "metadata": {},
   "outputs": [],
   "source": [
    "words.words()"
   ]
  },
  {
   "cell_type": "markdown",
   "id": "9fbf7f22",
   "metadata": {},
   "source": [
    "### Trie data structure for faster retrieval"
   ]
  },
  {
   "cell_type": "code",
   "execution_count": 80,
   "id": "35bdfc31",
   "metadata": {},
   "outputs": [],
   "source": [
    "class TrieNode:\n",
    "    def __init__(self):\n",
    "        self.children = {}\n",
    "        self.end_of_word = False\n",
    "\n",
    "class Trie:\n",
    "    def __init__(self):\n",
    "        self.root = TrieNode()\n",
    "\n",
    "    def insert(self, word):\n",
    "        node = self.root\n",
    "        for char in word[::-1]:\n",
    "            if char not in node.children:\n",
    "                node.children[char] = TrieNode()\n",
    "            node = node.children[char]\n",
    "        node.end_of_word = True\n",
    "\n",
    "    def search(self, word):\n",
    "        node = self.root\n",
    "        for char in word:\n",
    "            if char not in node.children:\n",
    "                return False\n",
    "            node = node.children[char]\n",
    "        return node.end_of_word"
   ]
  },
  {
   "cell_type": "markdown",
   "id": "6a269d2c",
   "metadata": {},
   "source": [
    "### If word in trie, append, else use min edit distance for nearest word"
   ]
  },
  {
   "cell_type": "code",
   "execution_count": 81,
   "id": "11812511",
   "metadata": {},
   "outputs": [],
   "source": [
    "def spell_check(sentence, trie):\n",
    "    corrected_sentence = []\n",
    "    for word in sentence.split():\n",
    "        if trie.search(word):\n",
    "            corrected_sentence.append(word)\n",
    "        else:\n",
    "            suggestions = []\n",
    "            for char in trie.root.children:\n",
    "                node = trie.root.children[char]\n",
    "                if char == word[0]:\n",
    "                    for i in range(1, len(word)):\n",
    "                        if word[i] not in node.children:\n",
    "                            break\n",
    "                        node = node.children[word[i]]\n",
    "                    else:\n",
    "                        if node.end_of_word:\n",
    "                            suggestions.append(char + word[1:])\n",
    "                        for child in node.children:\n",
    "                            suggestions.append(char + child + word[2:])\n",
    "            if suggestions:\n",
    "                corrected_sentence.append(min(suggestions, key=lambda x: edit_distance(x, word)))\n",
    "            else:\n",
    "                corrected_sentence.append(word)\n",
    "    return ' '.join(corrected_sentence)"
   ]
  },
  {
   "cell_type": "code",
   "execution_count": 82,
   "id": "8affb190",
   "metadata": {},
   "outputs": [],
   "source": [
    "def edit_distance(s1, s2):\n",
    "    m, n = len(s1), len(s2)\n",
    "    dp = [[0] * (n + 1) for _ in range(m + 1)]\n",
    "    for i in range(m + 1):\n",
    "        dp[i][0] = i\n",
    "    for j in range(n + 1):\n",
    "        dp[0][j] = j\n",
    "    for i in range(1, m + 1):\n",
    "        for j in range(1, n + 1):\n",
    "            if s1[i - 1] == s2[j - 1]:\n",
    "                dp[i][j] = dp[i - 1][j - 1]\n",
    "            else:\n",
    "                dp[i][j] = 1 + min(dp[i - 1][j], dp[i][j - 1], dp[i - 1][j - 1])\n",
    "    return dp[m][n]"
   ]
  },
  {
   "cell_type": "code",
   "execution_count": 84,
   "id": "c2f7593c",
   "metadata": {},
   "outputs": [],
   "source": [
    "trie = Trie()\n",
    "for i in words.words():\n",
    "    trie.insert(i)"
   ]
  },
  {
   "cell_type": "markdown",
   "id": "6f33533a",
   "metadata": {},
   "source": [
    "### This just checks for prefix and we need a language model to get proper replacement for word"
   ]
  },
  {
   "cell_type": "code",
   "execution_count": 85,
   "id": "979977f6",
   "metadata": {},
   "outputs": [
    {
     "name": "stdout",
     "output_type": "stream",
     "text": [
      "During the summer wr have the best ueather.\n",
      "I have a black ueather jacket, so nice.\n"
     ]
    }
   ],
   "source": [
    "print(spell_check('During the summer we have the best ueather.', trie))\n",
    "print(spell_check('I have a black ueather jacket, so nice.', trie))"
   ]
  }
 ],
 "metadata": {
  "kernelspec": {
   "display_name": "Python 3 (ipykernel)",
   "language": "python",
   "name": "python3"
  },
  "language_info": {
   "codemirror_mode": {
    "name": "ipython",
    "version": 3
   },
   "file_extension": ".py",
   "mimetype": "text/x-python",
   "name": "python",
   "nbconvert_exporter": "python",
   "pygments_lexer": "ipython3",
   "version": "3.9.7"
  }
 },
 "nbformat": 4,
 "nbformat_minor": 5
}
