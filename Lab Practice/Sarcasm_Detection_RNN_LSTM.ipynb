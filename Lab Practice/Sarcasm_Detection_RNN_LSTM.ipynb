{
  "cells": [
    {
      "source": [
        "\n",
        "# IMPORTANT: RUN THIS CELL IN ORDER TO IMPORT YOUR KAGGLE DATA SOURCES\n",
        "# TO THE CORRECT LOCATION (/kaggle/input) IN YOUR NOTEBOOK,\n",
        "# THEN FEEL FREE TO DELETE THIS CELL.\n",
        "# NOTE: THIS NOTEBOOK ENVIRONMENT DIFFERS FROM KAGGLE'S PYTHON\n",
        "# ENVIRONMENT SO THERE MAY BE MISSING LIBRARIES USED BY YOUR\n",
        "# NOTEBOOK.\n",
        "\n",
        "import os\n",
        "import sys\n",
        "from tempfile import NamedTemporaryFile\n",
        "from urllib.request import urlopen\n",
        "from urllib.parse import unquote, urlparse\n",
        "from urllib.error import HTTPError\n",
        "from zipfile import ZipFile\n",
        "import tarfile\n",
        "import shutil\n",
        "\n",
        "CHUNK_SIZE = 40960\n",
        "DATA_SOURCE_MAPPING = ':https%3A%2F%2Fstorage.googleapis.com%2Fkaggle-data-sets%2F30764%2F39238%2Fbundle%2Farchive.zip%3FX-Goog-Algorithm%3DGOOG4-RSA-SHA256%26X-Goog-Credential%3Dgcp-kaggle-com%2540kaggle-161607.iam.gserviceaccount.com%252F20240410%252Fauto%252Fstorage%252Fgoog4_request%26X-Goog-Date%3D20240410T080531Z%26X-Goog-Expires%3D259200%26X-Goog-SignedHeaders%3Dhost%26X-Goog-Signature%3D755b78983fdadf6fbd7d7018c2e9750400522c38c690e59f2e277574e78ffa45962a9fd146989df37aef2f973913b1b5b0e6a56329ca657be35ba9d9eff7aa52cd303574d10f5c88df421d3e4b8695ed69c9baaa0389b175324320ceb45060df3c47b448436179d5f88f3673ffcccf85cc5cfc656225053a10980867470ff1d43e950714195013841aa2958e315f5a4c4caf8b6cbcb57e3648f6dc5718eb1a0e150260aa422e0d3a7ed9aac8a7d0e83f5bef92789439f4f925ec9970810e6dd9c36c558691cb0ccf4a6b514ca6d9a44de1c0dc1f775b8679a488581c3212f577d9457d3835291943fa255033a6302b0b373ed0ec1acda2f4808fd4f31879cc0a'\n",
        "\n",
        "KAGGLE_INPUT_PATH='/kaggle/input'\n",
        "KAGGLE_WORKING_PATH='/kaggle/working'\n",
        "KAGGLE_SYMLINK='kaggle'\n",
        "\n",
        "!umount /kaggle/input/ 2> /dev/null\n",
        "shutil.rmtree('/kaggle/input', ignore_errors=True)\n",
        "os.makedirs(KAGGLE_INPUT_PATH, 0o777, exist_ok=True)\n",
        "os.makedirs(KAGGLE_WORKING_PATH, 0o777, exist_ok=True)\n",
        "\n",
        "try:\n",
        "  os.symlink(KAGGLE_INPUT_PATH, os.path.join(\"..\", 'input'), target_is_directory=True)\n",
        "except FileExistsError:\n",
        "  pass\n",
        "try:\n",
        "  os.symlink(KAGGLE_WORKING_PATH, os.path.join(\"..\", 'working'), target_is_directory=True)\n",
        "except FileExistsError:\n",
        "  pass\n",
        "\n",
        "for data_source_mapping in DATA_SOURCE_MAPPING.split(','):\n",
        "    directory, download_url_encoded = data_source_mapping.split(':')\n",
        "    download_url = unquote(download_url_encoded)\n",
        "    filename = urlparse(download_url).path\n",
        "    destination_path = os.path.join(KAGGLE_INPUT_PATH, directory)\n",
        "    try:\n",
        "        with urlopen(download_url) as fileres, NamedTemporaryFile() as tfile:\n",
        "            total_length = fileres.headers['content-length']\n",
        "            print(f'Downloading {directory}, {total_length} bytes compressed')\n",
        "            dl = 0\n",
        "            data = fileres.read(CHUNK_SIZE)\n",
        "            while len(data) > 0:\n",
        "                dl += len(data)\n",
        "                tfile.write(data)\n",
        "                done = int(50 * dl / int(total_length))\n",
        "                sys.stdout.write(f\"\\r[{'=' * done}{' ' * (50-done)}] {dl} bytes downloaded\")\n",
        "                sys.stdout.flush()\n",
        "                data = fileres.read(CHUNK_SIZE)\n",
        "            if filename.endswith('.zip'):\n",
        "              with ZipFile(tfile) as zfile:\n",
        "                zfile.extractall(destination_path)\n",
        "            else:\n",
        "              with tarfile.open(tfile.name) as tarfile:\n",
        "                tarfile.extractall(destination_path)\n",
        "            print(f'\\nDownloaded and uncompressed: {directory}')\n",
        "    except HTTPError as e:\n",
        "        print(f'Failed to load (likely expired) {download_url} to path {destination_path}')\n",
        "        continue\n",
        "    except OSError as e:\n",
        "        print(f'Failed to load {download_url} to path {destination_path}')\n",
        "        continue\n",
        "\n",
        "print('Data source import complete.')\n"
      ],
      "metadata": {
        "id": "32cUCY6oOQCb"
      },
      "cell_type": "code",
      "outputs": [],
      "execution_count": null
    },
    {
      "metadata": {
        "_uuid": "8f2839f25d086af736a60e9eeb907d3b93b6e0e5",
        "_cell_guid": "b1076dfc-b9ad-4769-8c92-a6c4dae69d19",
        "trusted": true,
        "id": "-MMUJguMOQCd",
        "outputId": "2c21a136-8267-4e00-ca4c-3c84eae02470"
      },
      "cell_type": "code",
      "source": [
        "import pandas as pd\n",
        "import numpy as np\n",
        "import matplotlib.pyplot as plt\n",
        "import seaborn as sns\n",
        "from sklearn.model_selection import train_test_split\n",
        "from sklearn.preprocessing import LabelEncoder\n",
        "from keras.models import Model\n",
        "from keras.layers import LSTM, Activation, Dense, Dropout, Input, Embedding\n",
        "from keras.optimizers import RMSprop\n",
        "from keras.preprocessing.text import Tokenizer\n",
        "from keras.preprocessing import sequence\n",
        "from keras.utils import to_categorical\n",
        "from keras.callbacks import EarlyStopping\n",
        "from sklearn.feature_extraction.text import CountVectorizer\n",
        "from keras.preprocessing.text import Tokenizer\n",
        "from keras.preprocessing.sequence import pad_sequences\n",
        "from keras.models import Sequential\n",
        "from keras.layers import Dense, Embedding, LSTM, SpatialDropout1D\n",
        "from sklearn.model_selection import train_test_split\n",
        "from keras.utils.np_utils import to_categorical\n",
        "%matplotlib inline\n",
        "import os\n",
        "import re\n",
        "print(os.listdir(\"../input\"))\n",
        "\n",
        "# Any results you write to the current directory are saved as output."
      ],
      "execution_count": null,
      "outputs": [
        {
          "output_type": "stream",
          "text": "Using TensorFlow backend.\n",
          "name": "stderr"
        },
        {
          "output_type": "stream",
          "text": "['Sarcasm_Headlines_Dataset.json']\n",
          "name": "stdout"
        }
      ]
    },
    {
      "metadata": {
        "id": "q9O2UPk0OQCe"
      },
      "cell_type": "markdown",
      "source": [
        "# Data Pre-Processing\n",
        "- Getting rid of unwanted data\n",
        "- Checking up if the data is normalized or not\n",
        "- Filtering Headlines\n",
        "- Defining max features\n",
        "- Vectorize & Convert text for input\n",
        "- Splitting data to train & test"
      ]
    },
    {
      "metadata": {
        "_cell_guid": "79c7e3d0-c299-4dcb-8224-4455121ee9b0",
        "_uuid": "d629ff2d2480ee46fbb7e2d37f6b5fab8052498a",
        "trusted": true,
        "id": "LNQUagBGOQCf",
        "outputId": "bec105cc-d60b-4f64-aaf0-c4a353579da6"
      },
      "cell_type": "code",
      "source": [
        "df = pd.read_json('../input/Sarcasm_Headlines_Dataset.json', lines=True)\n",
        "df.head()\n"
      ],
      "execution_count": null,
      "outputs": [
        {
          "output_type": "execute_result",
          "execution_count": 2,
          "data": {
            "text/plain": "                                        article_link     ...      is_sarcastic\n0  https://www.huffingtonpost.com/entry/versace-b...     ...                 0\n1  https://www.huffingtonpost.com/entry/roseanne-...     ...                 0\n2  https://local.theonion.com/mom-starting-to-fea...     ...                 1\n3  https://politics.theonion.com/boehner-just-wan...     ...                 1\n4  https://www.huffingtonpost.com/entry/jk-rowlin...     ...                 0\n\n[5 rows x 3 columns]",
            "text/html": "<div>\n<style scoped>\n    .dataframe tbody tr th:only-of-type {\n        vertical-align: middle;\n    }\n\n    .dataframe tbody tr th {\n        vertical-align: top;\n    }\n\n    .dataframe thead th {\n        text-align: right;\n    }\n</style>\n<table border=\"1\" class=\"dataframe\">\n  <thead>\n    <tr style=\"text-align: right;\">\n      <th></th>\n      <th>article_link</th>\n      <th>headline</th>\n      <th>is_sarcastic</th>\n    </tr>\n  </thead>\n  <tbody>\n    <tr>\n      <th>0</th>\n      <td>https://www.huffingtonpost.com/entry/versace-b...</td>\n      <td>former versace store clerk sues over secret 'b...</td>\n      <td>0</td>\n    </tr>\n    <tr>\n      <th>1</th>\n      <td>https://www.huffingtonpost.com/entry/roseanne-...</td>\n      <td>the 'roseanne' revival catches up to our thorn...</td>\n      <td>0</td>\n    </tr>\n    <tr>\n      <th>2</th>\n      <td>https://local.theonion.com/mom-starting-to-fea...</td>\n      <td>mom starting to fear son's web series closest ...</td>\n      <td>1</td>\n    </tr>\n    <tr>\n      <th>3</th>\n      <td>https://politics.theonion.com/boehner-just-wan...</td>\n      <td>boehner just wants wife to listen, not come up...</td>\n      <td>1</td>\n    </tr>\n    <tr>\n      <th>4</th>\n      <td>https://www.huffingtonpost.com/entry/jk-rowlin...</td>\n      <td>j.k. rowling wishes snape happy birthday in th...</td>\n      <td>0</td>\n    </tr>\n  </tbody>\n</table>\n</div>"
          },
          "metadata": {}
        }
      ]
    },
    {
      "metadata": {
        "id": "FrEbRy6IOQCf"
      },
      "cell_type": "markdown",
      "source": [
        "- ### Getting rid of unwanted data"
      ]
    },
    {
      "metadata": {
        "trusted": true,
        "id": "dcgUSJTQOQCf",
        "outputId": "72661802-1e86-47f6-e9bd-d5f2215ffeb2"
      },
      "cell_type": "code",
      "source": [
        "df = df[['headline','is_sarcastic']]\n",
        "df.head()"
      ],
      "execution_count": null,
      "outputs": [
        {
          "output_type": "execute_result",
          "execution_count": 3,
          "data": {
            "text/plain": "                                            headline  is_sarcastic\n0  former versace store clerk sues over secret 'b...             0\n1  the 'roseanne' revival catches up to our thorn...             0\n2  mom starting to fear son's web series closest ...             1\n3  boehner just wants wife to listen, not come up...             1\n4  j.k. rowling wishes snape happy birthday in th...             0",
            "text/html": "<div>\n<style scoped>\n    .dataframe tbody tr th:only-of-type {\n        vertical-align: middle;\n    }\n\n    .dataframe tbody tr th {\n        vertical-align: top;\n    }\n\n    .dataframe thead th {\n        text-align: right;\n    }\n</style>\n<table border=\"1\" class=\"dataframe\">\n  <thead>\n    <tr style=\"text-align: right;\">\n      <th></th>\n      <th>headline</th>\n      <th>is_sarcastic</th>\n    </tr>\n  </thead>\n  <tbody>\n    <tr>\n      <th>0</th>\n      <td>former versace store clerk sues over secret 'b...</td>\n      <td>0</td>\n    </tr>\n    <tr>\n      <th>1</th>\n      <td>the 'roseanne' revival catches up to our thorn...</td>\n      <td>0</td>\n    </tr>\n    <tr>\n      <th>2</th>\n      <td>mom starting to fear son's web series closest ...</td>\n      <td>1</td>\n    </tr>\n    <tr>\n      <th>3</th>\n      <td>boehner just wants wife to listen, not come up...</td>\n      <td>1</td>\n    </tr>\n    <tr>\n      <th>4</th>\n      <td>j.k. rowling wishes snape happy birthday in th...</td>\n      <td>0</td>\n    </tr>\n  </tbody>\n</table>\n</div>"
          },
          "metadata": {}
        }
      ]
    },
    {
      "metadata": {
        "id": "9f7ScG_gOQCg"
      },
      "cell_type": "markdown",
      "source": [
        "- ### Checking for normalization"
      ]
    },
    {
      "metadata": {
        "trusted": true,
        "id": "cM0VapdcOQCg",
        "outputId": "1625fe53-2af2-488f-9b8c-c13be86cd917"
      },
      "cell_type": "code",
      "source": [
        "sns.countplot(df.is_sarcastic)\n",
        "plt.xlabel('Label')\n",
        "plt.title('Sarcasm vs Non-sarcasm')\n"
      ],
      "execution_count": null,
      "outputs": [
        {
          "output_type": "execute_result",
          "execution_count": 4,
          "data": {
            "text/plain": "Text(0.5, 1.0, 'Sarcasm vs Non-sarcasm')"
          },
          "metadata": {}
        },
        {
          "output_type": "display_data",
          "data": {
            "text/plain": "<Figure size 432x288 with 1 Axes>",
            "image/png": "[encoded data removed]"
          },
          "metadata": {}
        }
      ]
    },
    {
      "metadata": {
        "id": "8Ckep6aTOQCg"
      },
      "cell_type": "markdown",
      "source": [
        "- ### Filtering headlines\n",
        "- So that only valid headlines remain &"
      ]
    },
    {
      "metadata": {
        "trusted": true,
        "id": "Qyqv5NHbOQCg"
      },
      "cell_type": "code",
      "source": [
        "df['headline'] = df['headline'].apply(lambda x: x.lower())\n",
        "df['headline'] = df['headline'].apply((lambda x: re.sub('[^a-zA-z0-9\\s]','',x)))\n"
      ],
      "execution_count": null,
      "outputs": []
    },
    {
      "metadata": {
        "id": "7RZTk4jNOQCg"
      },
      "cell_type": "markdown",
      "source": [
        "- ### Defining Max features\n",
        "- ### using Tokenizer to vectorize and convert text into Sequences\n",
        " so that the Network can deal with it as input"
      ]
    },
    {
      "metadata": {
        "trusted": true,
        "id": "qkETSf96OQCg"
      },
      "cell_type": "code",
      "source": [
        "for idx,row in df.iterrows():\n",
        "    row[0] = row[0].replace('rt',' ')\n",
        "\n",
        "max_fatures = 2000\n",
        "tokenizer = Tokenizer(num_words=max_fatures, split=' ')\n",
        "tokenizer.fit_on_texts(df['headline'].values)\n",
        "X = tokenizer.texts_to_sequences(df['headline'].values)\n",
        "X = pad_sequences(X)"
      ],
      "execution_count": null,
      "outputs": []
    },
    {
      "metadata": {
        "id": "iYYU_4oiOQCh"
      },
      "cell_type": "markdown",
      "source": [
        "### Splitting data to train & test"
      ]
    },
    {
      "metadata": {
        "trusted": true,
        "id": "2BD2mr3aOQCh",
        "outputId": "c260b341-96e5-4dc9-a6c3-ab1e0ba1f9cd"
      },
      "cell_type": "code",
      "source": [
        "Y = pd.get_dummies(df['is_sarcastic']).values\n",
        "X_train, X_test, Y_train, Y_test = train_test_split(X,Y, test_size = 0.33, random_state = 42)\n",
        "print(X_train.shape,Y_train.shape)\n",
        "print(X_test.shape,Y_test.shape)"
      ],
      "execution_count": null,
      "outputs": [
        {
          "output_type": "stream",
          "text": "(17895, 29) (17895, 2)\n(8814, 29) (8814, 2)\n",
          "name": "stdout"
        }
      ]
    },
    {
      "metadata": {
        "id": "ky_5fflMOQCh"
      },
      "cell_type": "markdown",
      "source": [
        "# Defining the LSTM RNN Model\n",
        "With softmax activation"
      ]
    },
    {
      "metadata": {
        "trusted": true,
        "id": "LMdth04SOQCh",
        "outputId": "d4bf78c5-0276-4477-c18c-8a188f050951"
      },
      "cell_type": "code",
      "source": [
        "embed_dim = 128\n",
        "lstm_out = 196\n",
        "\n",
        "model = Sequential()\n",
        "model.add(Embedding(max_fatures, embed_dim,input_length = X.shape[1]))\n",
        "model.add(SpatialDropout1D(0.4))\n",
        "model.add(LSTM(lstm_out, dropout=0.2, recurrent_dropout=0.2))\n",
        "model.add(Dense(2,activation='softmax'))\n",
        "model.compile(loss = 'categorical_crossentropy', optimizer='adam',metrics = ['accuracy'])"
      ],
      "execution_count": null,
      "outputs": [
        {
          "output_type": "stream",
          "text": "WARNING:tensorflow:From /opt/conda/lib/python3.6/site-packages/tensorflow/python/framework/op_def_library.py:263: colocate_with (from tensorflow.python.framework.ops) is deprecated and will be removed in a future version.\nInstructions for updating:\nColocations handled automatically by placer.\nWARNING:tensorflow:From /opt/conda/lib/python3.6/site-packages/keras/backend/tensorflow_backend.py:3445: calling dropout (from tensorflow.python.ops.nn_ops) with keep_prob is deprecated and will be removed in a future version.\nInstructions for updating:\nPlease use `rate` instead of `keep_prob`. Rate should be set to `rate = 1 - keep_prob`.\n",
          "name": "stdout"
        }
      ]
    },
    {
      "metadata": {
        "trusted": true,
        "id": "BngDHoRoOQCh",
        "outputId": "c1191ff9-3fc6-4565-c793-625af5a39ec9"
      },
      "cell_type": "code",
      "source": [
        "from IPython.display import SVG\n",
        "from keras.utils.vis_utils import model_to_dot\n",
        "\n",
        "SVG(model_to_dot(model).create(prog='dot', format='svg'))"
      ],
      "execution_count": null,
      "outputs": [
        {
          "output_type": "execute_result",
          "execution_count": 9,
          "data": {
            "text/plain": "<IPython.core.display.SVG object>",
            "image/svg+xml": "<svg height=\"337pt\" viewBox=\"0.00 0.00 242.00 337.00\" width=\"242pt\" xmlns=\"http://www.w3.org/2000/svg\" xmlns:xlink=\"http://www.w3.org/1999/xlink\">\n<g class=\"graph\" id=\"graph0\" transform=\"scale(1 1) rotate(0) translate(4 333)\">\n<title>G</title>\n<polygon fill=\"white\" points=\"-4,4 -4,-333 238,-333 238,4 -4,4\" stroke=\"none\"/>\n<!-- 140430486684280 -->\n<g class=\"node\" id=\"node1\"><title>140430486684280</title>\n<polygon fill=\"none\" points=\"36.5,-219.5 36.5,-255.5 197.5,-255.5 197.5,-219.5 36.5,-219.5\" stroke=\"black\"/>\n<text font-family=\"Times,serif\" font-size=\"14.00\" text-anchor=\"middle\" x=\"117\" y=\"-233.8\">embedding_1: Embedding</text>\n</g>\n<!-- 140432696398400 -->\n<g class=\"node\" id=\"node2\"><title>140432696398400</title>\n<polygon fill=\"none\" points=\"0,-146.5 0,-182.5 234,-182.5 234,-146.5 0,-146.5\" stroke=\"black\"/>\n<text font-family=\"Times,serif\" font-size=\"14.00\" text-anchor=\"middle\" x=\"117\" y=\"-160.8\">spatial_dropout1d_1: SpatialDropout1D</text>\n</g>\n<!-- 140430486684280&#45;&gt;140432696398400 -->\n<g class=\"edge\" id=\"edge2\"><title>140430486684280-&gt;140432696398400</title>\n<path d=\"M117,-219.313C117,-211.289 117,-201.547 117,-192.569\" fill=\"none\" stroke=\"black\"/>\n<polygon fill=\"black\" points=\"120.5,-192.529 117,-182.529 113.5,-192.529 120.5,-192.529\" stroke=\"black\"/>\n</g>\n<!-- 140430486685344 -->\n<g class=\"node\" id=\"node3\"><title>140430486685344</title>\n<polygon fill=\"none\" points=\"68,-73.5 68,-109.5 166,-109.5 166,-73.5 68,-73.5\" stroke=\"black\"/>\n<text font-family=\"Times,serif\" font-size=\"14.00\" text-anchor=\"middle\" x=\"117\" y=\"-87.8\">lstm_1: LSTM</text>\n</g>\n<!-- 140432696398400&#45;&gt;140430486685344 -->\n<g class=\"edge\" id=\"edge3\"><title>140432696398400-&gt;140430486685344</title>\n<path d=\"M117,-146.313C117,-138.289 117,-128.547 117,-119.569\" fill=\"none\" stroke=\"black\"/>\n<polygon fill=\"black\" points=\"120.5,-119.529 117,-109.529 113.5,-119.529 120.5,-119.529\" stroke=\"black\"/>\n</g>\n<!-- 140430486685400 -->\n<g class=\"node\" id=\"node4\"><title>140430486685400</title>\n<polygon fill=\"none\" points=\"66,-0.5 66,-36.5 168,-36.5 168,-0.5 66,-0.5\" stroke=\"black\"/>\n<text font-family=\"Times,serif\" font-size=\"14.00\" text-anchor=\"middle\" x=\"117\" y=\"-14.8\">dense_1: Dense</text>\n</g>\n<!-- 140430486685344&#45;&gt;140430486685400 -->\n<g class=\"edge\" id=\"edge4\"><title>140430486685344-&gt;140430486685400</title>\n<path d=\"M117,-73.3129C117,-65.2895 117,-55.5475 117,-46.5691\" fill=\"none\" stroke=\"black\"/>\n<polygon fill=\"black\" points=\"120.5,-46.5288 117,-36.5288 113.5,-46.5289 120.5,-46.5288\" stroke=\"black\"/>\n</g>\n<!-- 140430486684840 -->\n<g class=\"node\" id=\"node5\"><title>140430486684840</title>\n<polygon fill=\"none\" points=\"58,-292.5 58,-328.5 176,-328.5 176,-292.5 58,-292.5\" stroke=\"black\"/>\n<text font-family=\"Times,serif\" font-size=\"14.00\" text-anchor=\"middle\" x=\"117\" y=\"-306.8\">140430486684840</text>\n</g>\n<!-- 140430486684840&#45;&gt;140430486684280 -->\n<g class=\"edge\" id=\"edge1\"><title>140430486684840-&gt;140430486684280</title>\n<path d=\"M117,-292.313C117,-284.289 117,-274.547 117,-265.569\" fill=\"none\" stroke=\"black\"/>\n<polygon fill=\"black\" points=\"120.5,-265.529 117,-255.529 113.5,-265.529 120.5,-265.529\" stroke=\"black\"/>\n</g>\n</g>\n</svg>"
          },
          "metadata": {}
        }
      ]
    },
    {
      "metadata": {
        "id": "UkHhfOiNOQCh"
      },
      "cell_type": "markdown",
      "source": [
        "#### Training the model"
      ]
    },
    {
      "metadata": {
        "trusted": true,
        "id": "sa3kC1SzOQCh",
        "outputId": "8d6a9edf-a3fd-49b1-ecd6-6cfdbec4db53"
      },
      "cell_type": "code",
      "source": [
        "batch_size = 32\n",
        "history = model.fit(X_train, Y_train, epochs = 25, batch_size=batch_size, verbose = 2)"
      ],
      "execution_count": null,
      "outputs": [
        {
          "output_type": "stream",
          "text": "WARNING:tensorflow:From /opt/conda/lib/python3.6/site-packages/tensorflow/python/ops/math_ops.py:3066: to_int32 (from tensorflow.python.ops.math_ops) is deprecated and will be removed in a future version.\nInstructions for updating:\nUse tf.cast instead.\nEpoch 1/25\n - 31s - loss: 0.4482 - acc: 0.7842\nEpoch 2/25\n - 30s - loss: 0.3357 - acc: 0.8548\nEpoch 3/25\n - 30s - loss: 0.3038 - acc: 0.8699\nEpoch 4/25\n - 29s - loss: 0.2749 - acc: 0.8856\nEpoch 5/25\n - 30s - loss: 0.2548 - acc: 0.8929\nEpoch 6/25\n - 29s - loss: 0.2361 - acc: 0.9020\nEpoch 7/25\n - 29s - loss: 0.2210 - acc: 0.9072\nEpoch 8/25\n - 30s - loss: 0.2020 - acc: 0.9167\nEpoch 9/25\n - 29s - loss: 0.1878 - acc: 0.9206\nEpoch 10/25\n - 29s - loss: 0.1760 - acc: 0.9282\nEpoch 11/25\n - 30s - loss: 0.1620 - acc: 0.9341\nEpoch 12/25\n - 29s - loss: 0.1462 - acc: 0.9408\nEpoch 13/25\n - 30s - loss: 0.1327 - acc: 0.9450\nEpoch 14/25\n - 30s - loss: 0.1224 - acc: 0.9507\nEpoch 15/25\n - 29s - loss: 0.1108 - acc: 0.9551\nEpoch 16/25\n - 30s - loss: 0.1060 - acc: 0.9569\nEpoch 17/25\n - 29s - loss: 0.0937 - acc: 0.9611\nEpoch 18/25\n - 29s - loss: 0.0869 - acc: 0.9659\nEpoch 19/25\n - 30s - loss: 0.0840 - acc: 0.9669\nEpoch 20/25\n - 29s - loss: 0.0737 - acc: 0.9713\nEpoch 21/25\n - 29s - loss: 0.0685 - acc: 0.9728\nEpoch 22/25\n - 29s - loss: 0.0621 - acc: 0.9766\nEpoch 23/25\n - 29s - loss: 0.0647 - acc: 0.9747\nEpoch 24/25\n - 31s - loss: 0.0601 - acc: 0.9765\nEpoch 25/25\n - 30s - loss: 0.0551 - acc: 0.9784\n",
          "name": "stdout"
        }
      ]
    },
    {
      "metadata": {
        "id": "9OrVWx8vOQCh"
      },
      "cell_type": "markdown",
      "source": [
        "Let's check the accuracy and score now"
      ]
    },
    {
      "metadata": {
        "trusted": true,
        "id": "3wcst_8wOQCh",
        "outputId": "72feb1af-eda6-4c4d-c238-fa177bf57d32"
      },
      "cell_type": "code",
      "source": [
        "validation_size = 1500\n",
        "\n",
        "X_validate = X_test[-validation_size:]\n",
        "Y_validate = Y_test[-validation_size:]\n",
        "X_test = X_test[:-validation_size]\n",
        "Y_test = Y_test[:-validation_size]\n",
        "score,acc = model.evaluate(X_test, Y_test, verbose = 2, batch_size = batch_size)\n",
        "print(\"score: %.2f\" % (score))\n",
        "print(\"acc: %.2f\" % (acc))"
      ],
      "execution_count": null,
      "outputs": [
        {
          "output_type": "stream",
          "text": "score: 1.00\nacc: 0.81\n",
          "name": "stdout"
        }
      ]
    },
    {
      "metadata": {
        "id": "WW8kGxA8OQCh"
      },
      "cell_type": "markdown",
      "source": [
        "### A graph of accuracy & Loss vs Epoch"
      ]
    },
    {
      "metadata": {
        "trusted": true,
        "id": "dfSvHQR9OQCh",
        "outputId": "380438fb-9ec6-4283-a80c-bed65784c73a"
      },
      "cell_type": "code",
      "source": [
        "# summarize history for accuracy\n",
        "plt.plot(history.history['acc'])\n",
        "#plt.plot(history.history['val_acc'])\n",
        "plt.title('model accuracy')\n",
        "plt.ylabel('accuracy')\n",
        "plt.xlabel('epoch')\n",
        "plt.legend(['train', 'test'], loc='upper left')\n",
        "plt.show()\n",
        "plt.savefig('model_accuracy.png')\n",
        "# summarize history for loss\n",
        "plt.plot(history.history['loss'])\n",
        "#plt.plot(history.history['val_loss'])\n",
        "plt.title('model loss')\n",
        "plt.ylabel('loss')\n",
        "plt.xlabel('epoch')\n",
        "plt.legend(['train', 'test'], loc='upper left')\n",
        "plt.show()\n",
        "plt.savefig('model_loss.png')"
      ],
      "execution_count": null,
      "outputs": [
        {
          "output_type": "display_data",
          "data": {
            "text/plain": "<Figure size 432x288 with 1 Axes>",
            "image/png": "[encoded data removed]"
          },
          "metadata": {}
        },
        {
          "output_type": "display_data",
          "data": {
            "text/plain": "<Figure size 432x288 with 1 Axes>",
            "image/png": "[encoded data removed]"
          },
          "metadata": {}
        },
        {
          "output_type": "display_data",
          "data": {
            "text/plain": "<Figure size 432x288 with 0 Axes>"
          },
          "metadata": {}
        }
      ]
    },
    {
      "metadata": {
        "id": "TseO2iC_OQCi"
      },
      "cell_type": "markdown",
      "source": [
        "#### Let's check it's score on sarcastic & non-sarcastic headlines respectively"
      ]
    },
    {
      "metadata": {
        "trusted": true,
        "id": "ExFQs2FXOQCi",
        "outputId": "cb7ab6e4-c5c7-467b-8d05-b8e5dbd64056"
      },
      "cell_type": "code",
      "source": [
        "pos_cnt, neg_cnt, pos_correct, neg_correct = 0, 0, 0, 0\n",
        "for x in range(len(X_validate)):\n",
        "\n",
        "    result = model.predict(X_validate[x].reshape(1,X_test.shape[1]),batch_size=1,verbose = 2)[0]\n",
        "\n",
        "    if np.argmax(result) == np.argmax(Y_validate[x]):\n",
        "        if np.argmax(Y_validate[x]) == 0:\n",
        "            neg_correct += 1\n",
        "        else:\n",
        "            pos_correct += 1\n",
        "\n",
        "    if np.argmax(Y_validate[x]) == 0:\n",
        "        neg_cnt += 1\n",
        "    else:\n",
        "        pos_cnt += 1\n",
        "\n",
        "\n",
        "\n",
        "print(\"Sarcasm_acc\", pos_correct/pos_cnt*100, \"%\")\n",
        "print(\"Non-Sarcasm_acc\", neg_correct/neg_cnt*100, \"%\")"
      ],
      "execution_count": null,
      "outputs": [
        {
          "output_type": "stream",
          "text": "Sarcasm_acc 80.69381598793363 %\nNon-Sarcasm_acc 83.75149342891278 %\n",
          "name": "stdout"
        }
      ]
    },
    {
      "metadata": {
        "id": "Nm70jLtJOQCi"
      },
      "cell_type": "markdown",
      "source": [
        "Pretty decent for a begginner huh?\n",
        "\n",
        "Let me try it on a popular headline"
      ]
    },
    {
      "metadata": {
        "trusted": true,
        "id": "La9xE2rVOQCi",
        "outputId": "deee8ccf-effa-4df6-833e-1103a1128e38"
      },
      "cell_type": "code",
      "source": [
        "headline = ['Chowkidar hi chor hai']\n",
        "headline = tokenizer.texts_to_sequences(headline)\n",
        "headline = pad_sequences(headline, maxlen=29, dtype='int32', value=0)\n",
        "\n",
        "sentiment = model.predict(headline,batch_size=1,verbose = 2)[0]\n",
        "if(np.argmax(sentiment) == 0):\n",
        "    print(\"Non-sarcastic\")\n",
        "elif (np.argmax(sentiment) == 1):\n",
        "    print(\"Sarcasm\")"
      ],
      "execution_count": null,
      "outputs": [
        {
          "output_type": "stream",
          "text": "Sarcasm\n",
          "name": "stdout"
        }
      ]
    },
    {
      "metadata": {
        "trusted": true,
        "id": "liC24V1yOQCi"
      },
      "cell_type": "code",
      "source": [
        "#Save the model\n",
        "# serialize model to JSON\n",
        "model_json = model.to_json()\n",
        "with open(\"model.json\", \"w\") as json_file:\n",
        "    json_file.write(model_json)\n",
        "# serialize weights to HDF5\n",
        "model.save_weights(\"model.h5\")"
      ],
      "execution_count": null,
      "outputs": []
    },
    {
      "metadata": {
        "trusted": true,
        "id": "qbBhGE1fOQCi"
      },
      "cell_type": "code",
      "source": [],
      "execution_count": null,
      "outputs": []
    },
    {
      "metadata": {
        "trusted": true,
        "id": "uv2xjvqOOQCi"
      },
      "cell_type": "code",
      "source": [],
      "execution_count": null,
      "outputs": []
    }
  ],
  "metadata": {
    "kernelspec": {
      "display_name": "Python 3",
      "language": "python",
      "name": "python3"
    },
    "language_info": {
      "name": "python",
      "version": "3.6.4",
      "mimetype": "text/x-python",
      "codemirror_mode": {
        "name": "ipython",
        "version": 3
      },
      "pygments_lexer": "ipython3",
      "nbconvert_exporter": "python",
      "file_extension": ".py"
    },
    "colab": {
      "name": "Sarcasm Detection : RNN-LSTM",
      "provenance": []
    }
  },
  "nbformat": 4,
  "nbformat_minor": 0
}