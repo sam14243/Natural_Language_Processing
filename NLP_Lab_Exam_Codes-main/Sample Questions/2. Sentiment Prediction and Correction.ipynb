{
 "cells": [
  {
   "cell_type": "markdown",
   "metadata": {},
   "source": [
    "# Task\n",
    "If the given sentence is a negative one, identify the negative token and change it to a positive sense which can make the sentence positive."
   ]
  },
  {
   "cell_type": "code",
   "execution_count": null,
   "metadata": {},
   "outputs": [],
   "source": []
  }
 ],
 "metadata": {
  "language_info": {
   "name": "python"
  }
 },
 "nbformat": 4,
 "nbformat_minor": 2
}
