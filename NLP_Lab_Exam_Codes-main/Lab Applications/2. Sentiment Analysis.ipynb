{
 "cells": [
  {
   "cell_type": "markdown",
   "metadata": {},
   "source": [
    "# Main Links\n",
    "- [Till Preprocessing](https://www.kaggle.com/code/poojag718/sentiment-analysis-machine-learning-approach)\n",
    "- [Word2Vec Flavours](https://towardsdatascience.com/nlp-101-word2vec-skip-gram-and-cbow-93512ee24314#:~:text=Continuous%20Bag%20of%20Words%20Model%20(CBOW)%20and%20Skip%2Dgram&text=In%20the%20CBOW%20model%2C%20the,used%20to%20predict%20the%20context%20.)\n",
    "- [Kaggle 1](https://www.kaggle.com/code/rahulabrsl/sentiment-analysis-using-rnn)\n",
    "- [Kaggle 2](https://www.kaggle.com/code/barirahzainal/my-project-nlp-sentiment-analysis-dataset)\n",
    "- [Kaggle 3](https://www.kaggle.com/code/hakim11/deep-text-analysis-with-lstm-and-keras-tuner)\n",
    "\n",
    "- From aniruth code\n",
    "```python\n",
    "tqdm.pandas(desc=\"Calculating embeddings\")\n",
    "x_w2v_train = X_train.apply((lambda x: calculate_mean_embedding(X_train, word2vec_model)))\n",
    "```\n",
    "\n"
   ]
  },
  {
   "cell_type": "code",
   "execution_count": 1,
   "metadata": {},
   "outputs": [],
   "source": [
    "import os\n",
    "import re\n",
    "import numpy as np\n",
    "import pandas as pd\n",
    "import matplotlib.pyplot as plt\n",
    "import seaborn as sns\n",
    "\n",
    "from string import punctuation\n",
    "\n",
    "import nltk\n",
    "from nltk.corpus import stopwords\n",
    "from nltk.tokenize import word_tokenize\n",
    "from nltk.stem import LancasterStemmer\n",
    "from nltk.stem.wordnet import WordNetLemmatizer\n",
    "\n",
    "\n",
    "import warnings\n",
    "warnings.filterwarnings('ignore')"
   ]
  },
  {
   "cell_type": "code",
   "execution_count": 2,
   "metadata": {},
   "outputs": [
    {
     "data": {
      "text/html": [
       "<div>\n",
       "<style scoped>\n",
       "    .dataframe tbody tr th:only-of-type {\n",
       "        vertical-align: middle;\n",
       "    }\n",
       "\n",
       "    .dataframe tbody tr th {\n",
       "        vertical-align: top;\n",
       "    }\n",
       "\n",
       "    .dataframe thead th {\n",
       "        text-align: right;\n",
       "    }\n",
       "</style>\n",
       "<table border=\"1\" class=\"dataframe\">\n",
       "  <thead>\n",
       "    <tr style=\"text-align: right;\">\n",
       "      <th></th>\n",
       "      <th>Sentiment</th>\n",
       "      <th>id</th>\n",
       "      <th>date</th>\n",
       "      <th>query</th>\n",
       "      <th>user</th>\n",
       "      <th>text</th>\n",
       "    </tr>\n",
       "  </thead>\n",
       "  <tbody>\n",
       "    <tr>\n",
       "      <th>0</th>\n",
       "      <td>0</td>\n",
       "      <td>1467810672</td>\n",
       "      <td>Mon Apr 06 22:19:49 PDT 2009</td>\n",
       "      <td>NO_QUERY</td>\n",
       "      <td>scotthamilton</td>\n",
       "      <td>is upset that he can't update his Facebook by ...</td>\n",
       "    </tr>\n",
       "    <tr>\n",
       "      <th>1</th>\n",
       "      <td>0</td>\n",
       "      <td>1467810917</td>\n",
       "      <td>Mon Apr 06 22:19:53 PDT 2009</td>\n",
       "      <td>NO_QUERY</td>\n",
       "      <td>mattycus</td>\n",
       "      <td>@Kenichan I dived many times for the ball. Man...</td>\n",
       "    </tr>\n",
       "    <tr>\n",
       "      <th>2</th>\n",
       "      <td>0</td>\n",
       "      <td>1467811184</td>\n",
       "      <td>Mon Apr 06 22:19:57 PDT 2009</td>\n",
       "      <td>NO_QUERY</td>\n",
       "      <td>ElleCTF</td>\n",
       "      <td>my whole body feels itchy and like its on fire</td>\n",
       "    </tr>\n",
       "    <tr>\n",
       "      <th>3</th>\n",
       "      <td>0</td>\n",
       "      <td>1467811193</td>\n",
       "      <td>Mon Apr 06 22:19:57 PDT 2009</td>\n",
       "      <td>NO_QUERY</td>\n",
       "      <td>Karoli</td>\n",
       "      <td>@nationwideclass no, it's not behaving at all....</td>\n",
       "    </tr>\n",
       "    <tr>\n",
       "      <th>4</th>\n",
       "      <td>0</td>\n",
       "      <td>1467811372</td>\n",
       "      <td>Mon Apr 06 22:20:00 PDT 2009</td>\n",
       "      <td>NO_QUERY</td>\n",
       "      <td>joy_wolf</td>\n",
       "      <td>@Kwesidei not the whole crew</td>\n",
       "    </tr>\n",
       "  </tbody>\n",
       "</table>\n",
       "</div>"
      ],
      "text/plain": [
       "   Sentiment          id                          date     query  \\\n",
       "0          0  1467810672  Mon Apr 06 22:19:49 PDT 2009  NO_QUERY   \n",
       "1          0  1467810917  Mon Apr 06 22:19:53 PDT 2009  NO_QUERY   \n",
       "2          0  1467811184  Mon Apr 06 22:19:57 PDT 2009  NO_QUERY   \n",
       "3          0  1467811193  Mon Apr 06 22:19:57 PDT 2009  NO_QUERY   \n",
       "4          0  1467811372  Mon Apr 06 22:20:00 PDT 2009  NO_QUERY   \n",
       "\n",
       "            user                                               text  \n",
       "0  scotthamilton  is upset that he can't update his Facebook by ...  \n",
       "1       mattycus  @Kenichan I dived many times for the ball. Man...  \n",
       "2        ElleCTF    my whole body feels itchy and like its on fire   \n",
       "3         Karoli  @nationwideclass no, it's not behaving at all....  \n",
       "4       joy_wolf                      @Kwesidei not the whole crew   "
      ]
     },
     "execution_count": 2,
     "metadata": {},
     "output_type": "execute_result"
    }
   ],
   "source": [
    "df = pd.read_csv('./resources/Sentiment Analysis/training.1600000.processed.noemoticon.csv', delimiter=',', encoding='ISO-8859-1')\n",
    "df.columns = ['Sentiment','id','date','query','user','text']\n",
    "df.head()"
   ]
  },
  {
   "cell_type": "code",
   "execution_count": 3,
   "metadata": {},
   "outputs": [],
   "source": [
    "df = df[['Sentiment','text']]"
   ]
  },
  {
   "cell_type": "code",
   "execution_count": 4,
   "metadata": {},
   "outputs": [
    {
     "data": {
      "text/plain": [
       "Sentiment\n",
       "0    799996\n",
       "4    248576\n",
       "Name: count, dtype: int64"
      ]
     },
     "execution_count": 4,
     "metadata": {},
     "output_type": "execute_result"
    }
   ],
   "source": [
    "df.Sentiment.value_counts()"
   ]
  },
  {
   "cell_type": "code",
   "execution_count": 5,
   "metadata": {},
   "outputs": [],
   "source": [
    "# 0 Represents Negative sentiment, 1 represents positive sentiments\n",
    "df['Sentiment'] = df['Sentiment'].replace({4:1})"
   ]
  },
  {
   "cell_type": "markdown",
   "metadata": {},
   "source": [
    "## Downsampling the Dataset"
   ]
  },
  {
   "cell_type": "code",
   "execution_count": 6,
   "metadata": {},
   "outputs": [],
   "source": [
    "from sklearn.utils import resample"
   ]
  },
  {
   "cell_type": "code",
   "execution_count": 7,
   "metadata": {},
   "outputs": [],
   "source": [
    "## majority class 0\n",
    "df_majority = df[df['Sentiment']==0]\n",
    "## minority class 1\n",
    "df_minority = df[df['Sentiment']==1]"
   ]
  },
  {
   "cell_type": "code",
   "execution_count": 8,
   "metadata": {},
   "outputs": [
    {
     "data": {
      "text/plain": [
       "(248576, 2)"
      ]
     },
     "execution_count": 8,
     "metadata": {},
     "output_type": "execute_result"
    }
   ],
   "source": [
    "df_minority.shape"
   ]
  },
  {
   "cell_type": "code",
   "execution_count": 9,
   "metadata": {},
   "outputs": [],
   "source": [
    "# downsample the majority class\n",
    "df_majority_downsampled = resample(df_majority, \n",
    "                                 replace=False,   \n",
    "                                 n_samples=len(df_minority),    \n",
    "                                 random_state=1234) "
   ]
  },
  {
   "cell_type": "code",
   "execution_count": 10,
   "metadata": {},
   "outputs": [
    {
     "data": {
      "text/html": [
       "<div>\n",
       "<style scoped>\n",
       "    .dataframe tbody tr th:only-of-type {\n",
       "        vertical-align: middle;\n",
       "    }\n",
       "\n",
       "    .dataframe tbody tr th {\n",
       "        vertical-align: top;\n",
       "    }\n",
       "\n",
       "    .dataframe thead th {\n",
       "        text-align: right;\n",
       "    }\n",
       "</style>\n",
       "<table border=\"1\" class=\"dataframe\">\n",
       "  <thead>\n",
       "    <tr style=\"text-align: right;\">\n",
       "      <th></th>\n",
       "      <th>Sentiment</th>\n",
       "      <th>text</th>\n",
       "    </tr>\n",
       "  </thead>\n",
       "  <tbody>\n",
       "    <tr>\n",
       "      <th>0</th>\n",
       "      <td>0</td>\n",
       "      <td>Wow slept for almost 12hours. Sleepy me!! Uni ...</td>\n",
       "    </tr>\n",
       "    <tr>\n",
       "      <th>1</th>\n",
       "      <td>0</td>\n",
       "      <td>gets bored with an idea too easily ... like tw...</td>\n",
       "    </tr>\n",
       "    <tr>\n",
       "      <th>2</th>\n",
       "      <td>0</td>\n",
       "      <td>To my girls - sorry i've been a homebody latel...</td>\n",
       "    </tr>\n",
       "    <tr>\n",
       "      <th>3</th>\n",
       "      <td>0</td>\n",
       "      <td>BK once again for the weekend...If it wasnt fo...</td>\n",
       "    </tr>\n",
       "    <tr>\n",
       "      <th>4</th>\n",
       "      <td>0</td>\n",
       "      <td>@DonnieWahlberg Now why didn't you do that las...</td>\n",
       "    </tr>\n",
       "  </tbody>\n",
       "</table>\n",
       "</div>"
      ],
      "text/plain": [
       "   Sentiment                                               text\n",
       "0          0  Wow slept for almost 12hours. Sleepy me!! Uni ...\n",
       "1          0  gets bored with an idea too easily ... like tw...\n",
       "2          0  To my girls - sorry i've been a homebody latel...\n",
       "3          0  BK once again for the weekend...If it wasnt fo...\n",
       "4          0  @DonnieWahlberg Now why didn't you do that las..."
      ]
     },
     "execution_count": 10,
     "metadata": {},
     "output_type": "execute_result"
    }
   ],
   "source": [
    "df = pd.concat([df_majority_downsampled, df_minority], ignore_index=True)\n",
    "\n",
    "df.head()"
   ]
  },
  {
   "cell_type": "markdown",
   "metadata": {},
   "source": [
    "## Preprocessing\n",
    "1. removing stop words\n",
    "1. removing punctuations\n",
    "1. Lemmatizing\n",
    "1. removing tags\n",
    "1. removing special characters\n",
    "1. lowercase conversion"
   ]
  },
  {
   "cell_type": "code",
   "execution_count": null,
   "metadata": {},
   "outputs": [],
   "source": [
    "# def pre_processing(tweet: str):\n",
    "    \n",
    "#     # Remove Leading Blank Spaces\n",
    "#     tweet = tweet.strip()\n",
    "    \n",
    "#     # Lower Case\n",
    "#     tweet = tweet.lower()\n",
    "    \n",
    "#     # Remove URLS \n",
    "#     url_pattern = re.compile(r\"https?://\\S+|www\\.\\S+\")\n",
    "#     tweet = re.sub(url_pattern, \"\", tweet)\n",
    "    \n",
    "#     # Remove UserName\n",
    "#     username_pattern = re.compile(r\"@\\w+\")\n",
    "#     tweet = re.sub(username_pattern, \"\", tweet)\n",
    "    \n",
    "#     # Remove Hashtags\n",
    "#     hashtag_pattern = re.compile(r\"#\\w+\")\n",
    "#     tweet = re.sub(hashtag_pattern, \"\", tweet)\n",
    "    \n",
    "#     # Character normalization // todaaaaay -> today\n",
    "#     tweet = re.sub(r\"([a-zA-Z])\\1{2,}\", r'\\1', tweet)\n",
    "    \n",
    "#     # Remove Special Characters\n",
    "#     tweet = re.sub(r'[^a-zA-Z\\s]', \"\", tweet)\n",
    "    \n",
    "#     # Word Tokenizer\n",
    "#     tweet = nltk.word_tokenize(tweet)\n",
    "    \n",
    "#     # Remove Stop Words \n",
    "#     stop_words = set([re.sub(r'[^a-zA-Z\\s]', \"\", word) for word in nltk.corpus.stopwords.words(\"english\")])\n",
    "#     tweet = [word for word in tweet if word not in stop_words]\n",
    "    \n",
    "#     # lemmatization\n",
    "#     def get_pos(word):\n",
    "#         tag = nltk.pos_tag([word])[0][1][0].upper()\n",
    "#         tag_dict = {\"N\": \"n\", \"V\": \"v\", \"R\": \"r\", \"J\": \"a\"}\n",
    "#         return tag_dict.get(tag, \"n\")\n",
    "    \n",
    "#     lemma = nltk.stem.WordNetLemmatizer()\n",
    "#     tweet = [lemma.lemmatize(word, pos=get_pos(word)) for word in tweet]\n",
    "    \n",
    "#     return tweet"
   ]
  },
  {
   "cell_type": "code",
   "execution_count": 11,
   "metadata": {},
   "outputs": [
    {
     "name": "stdout",
     "output_type": "stream",
     "text": [
      "497152\n",
      "Wow slept for almost 12hours. Sleepy me!! Uni now, boo! I wanna stay home, drink tea and watch house... \n"
     ]
    }
   ],
   "source": [
    "## remove stopwords and punctuation marks\n",
    "stuff_to_be_removed = list(stopwords.words('english'))+list(punctuation)\n",
    "stemmer = LancasterStemmer()\n",
    "\n",
    "corpus = df['text'].tolist()\n",
    "print(len(corpus))\n",
    "print(corpus[0])"
   ]
  },
  {
   "cell_type": "code",
   "execution_count": 12,
   "metadata": {},
   "outputs": [
    {
     "name": "stdout",
     "output_type": "stream",
     "text": [
      "CPU times: user 1 µs, sys: 1e+03 ns, total: 2 µs\n",
      "Wall time: 3.1 µs\n"
     ]
    }
   ],
   "source": [
    "%time\n",
    "final_corpus = []\n",
    "final_corpus_joined = []\n",
    "for i in df.index:\n",
    "    text = re.sub('[^a-zA-Z]', ' ', df['text'][i])\n",
    "    #Convert to lowercase\n",
    "    text = text.lower()\n",
    "    #remove tags\n",
    "    text=re.sub(\"&lt;/?.*?&gt;\",\" &lt;&gt; \",text)\n",
    "    \n",
    "    # remove special characters and digits\n",
    "    text=re.sub(\"(\\\\d|\\\\W)+\",\" \",text)\n",
    "    \n",
    "    ##Convert to list from string\n",
    "    text = text.split()\n",
    "\n",
    "    #Lemmatisation\n",
    "    lem = WordNetLemmatizer()\n",
    "    text = [lem.lemmatize(word) for word in text \n",
    "            if not word in stuff_to_be_removed] \n",
    "    text1 = \" \".join(text)\n",
    "    final_corpus.append(text)\n",
    "    final_corpus_joined.append(text1)"
   ]
  },
  {
   "cell_type": "code",
   "execution_count": 13,
   "metadata": {},
   "outputs": [],
   "source": [
    "# Storing it separately\n",
    "\n",
    "data_cleaned = pd.DataFrame()\n",
    "data_cleaned[\"text\"] = final_corpus_joined\n",
    "data_cleaned[\"Sentiment\"] = df[\"Sentiment\"].values"
   ]
  },
  {
   "cell_type": "code",
   "execution_count": 14,
   "metadata": {},
   "outputs": [
    {
     "data": {
      "text/plain": [
       "Sentiment\n",
       "0    248576\n",
       "1    248576\n",
       "Name: count, dtype: int64"
      ]
     },
     "execution_count": 14,
     "metadata": {},
     "output_type": "execute_result"
    }
   ],
   "source": [
    "data_cleaned['Sentiment'].value_counts()"
   ]
  },
  {
   "cell_type": "code",
   "execution_count": 15,
   "metadata": {},
   "outputs": [
    {
     "data": {
      "text/html": [
       "<div>\n",
       "<style scoped>\n",
       "    .dataframe tbody tr th:only-of-type {\n",
       "        vertical-align: middle;\n",
       "    }\n",
       "\n",
       "    .dataframe tbody tr th {\n",
       "        vertical-align: top;\n",
       "    }\n",
       "\n",
       "    .dataframe thead th {\n",
       "        text-align: right;\n",
       "    }\n",
       "</style>\n",
       "<table border=\"1\" class=\"dataframe\">\n",
       "  <thead>\n",
       "    <tr style=\"text-align: right;\">\n",
       "      <th></th>\n",
       "      <th>text</th>\n",
       "      <th>Sentiment</th>\n",
       "    </tr>\n",
       "  </thead>\n",
       "  <tbody>\n",
       "    <tr>\n",
       "      <th>0</th>\n",
       "      <td>wow slept almost hour sleepy uni boo wanna sta...</td>\n",
       "      <td>0</td>\n",
       "    </tr>\n",
       "    <tr>\n",
       "      <th>1</th>\n",
       "      <td>get bored idea easily like twitter</td>\n",
       "      <td>0</td>\n",
       "    </tr>\n",
       "    <tr>\n",
       "      <th>2</th>\n",
       "      <td>girl sorry homebody lately dont feel well does...</td>\n",
       "      <td>0</td>\n",
       "    </tr>\n",
       "    <tr>\n",
       "      <th>3</th>\n",
       "      <td>bk weekend wasnt puppy stay as</td>\n",
       "      <td>0</td>\n",
       "    </tr>\n",
       "    <tr>\n",
       "      <th>4</th>\n",
       "      <td>donniewahlberg last night atlanta</td>\n",
       "      <td>0</td>\n",
       "    </tr>\n",
       "  </tbody>\n",
       "</table>\n",
       "</div>"
      ],
      "text/plain": [
       "                                                text  Sentiment\n",
       "0  wow slept almost hour sleepy uni boo wanna sta...          0\n",
       "1                 get bored idea easily like twitter          0\n",
       "2  girl sorry homebody lately dont feel well does...          0\n",
       "3                     bk weekend wasnt puppy stay as          0\n",
       "4                  donniewahlberg last night atlanta          0"
      ]
     },
     "execution_count": 15,
     "metadata": {},
     "output_type": "execute_result"
    }
   ],
   "source": [
    "data_cleaned.head()"
   ]
  },
  {
   "cell_type": "markdown",
   "metadata": {},
   "source": [
    "## EDA \n",
    "- [Done here](https://www.kaggle.com/code/poojag718/sentiment-analysis-machine-learning-approach)\n",
    "- Inferences such as most commonly used words are derived from here\n"
   ]
  },
  {
   "cell_type": "markdown",
   "metadata": {},
   "source": [
    "## Generating Representations"
   ]
  },
  {
   "cell_type": "code",
   "execution_count": 16,
   "metadata": {},
   "outputs": [
    {
     "name": "stdout",
     "output_type": "stream",
     "text": [
      "Requirement already satisfied: tensorflow in /Users/daver/Desktop/College Work/NLP_Lab_Exam_Codes/.venv/lib/python3.12/site-packages (2.16.1)\n",
      "Requirement already satisfied: absl-py>=1.0.0 in /Users/daver/Desktop/College Work/NLP_Lab_Exam_Codes/.venv/lib/python3.12/site-packages (from tensorflow) (2.1.0)\n",
      "Requirement already satisfied: astunparse>=1.6.0 in /Users/daver/Desktop/College Work/NLP_Lab_Exam_Codes/.venv/lib/python3.12/site-packages (from tensorflow) (1.6.3)\n",
      "Requirement already satisfied: flatbuffers>=23.5.26 in /Users/daver/Desktop/College Work/NLP_Lab_Exam_Codes/.venv/lib/python3.12/site-packages (from tensorflow) (24.3.25)\n",
      "Requirement already satisfied: gast!=0.5.0,!=0.5.1,!=0.5.2,>=0.2.1 in /Users/daver/Desktop/College Work/NLP_Lab_Exam_Codes/.venv/lib/python3.12/site-packages (from tensorflow) (0.5.4)\n",
      "Requirement already satisfied: google-pasta>=0.1.1 in /Users/daver/Desktop/College Work/NLP_Lab_Exam_Codes/.venv/lib/python3.12/site-packages (from tensorflow) (0.2.0)\n",
      "Requirement already satisfied: h5py>=3.10.0 in /Users/daver/Desktop/College Work/NLP_Lab_Exam_Codes/.venv/lib/python3.12/site-packages (from tensorflow) (3.10.0)\n",
      "Requirement already satisfied: libclang>=13.0.0 in /Users/daver/Desktop/College Work/NLP_Lab_Exam_Codes/.venv/lib/python3.12/site-packages (from tensorflow) (18.1.1)\n",
      "Requirement already satisfied: ml-dtypes~=0.3.1 in /Users/daver/Desktop/College Work/NLP_Lab_Exam_Codes/.venv/lib/python3.12/site-packages (from tensorflow) (0.3.2)\n",
      "Requirement already satisfied: opt-einsum>=2.3.2 in /Users/daver/Desktop/College Work/NLP_Lab_Exam_Codes/.venv/lib/python3.12/site-packages (from tensorflow) (3.3.0)\n",
      "Requirement already satisfied: packaging in /Users/daver/Desktop/College Work/NLP_Lab_Exam_Codes/.venv/lib/python3.12/site-packages (from tensorflow) (24.0)\n",
      "Requirement already satisfied: protobuf!=4.21.0,!=4.21.1,!=4.21.2,!=4.21.3,!=4.21.4,!=4.21.5,<5.0.0dev,>=3.20.3 in /Users/daver/Desktop/College Work/NLP_Lab_Exam_Codes/.venv/lib/python3.12/site-packages (from tensorflow) (4.25.3)\n",
      "Requirement already satisfied: requests<3,>=2.21.0 in /Users/daver/Desktop/College Work/NLP_Lab_Exam_Codes/.venv/lib/python3.12/site-packages (from tensorflow) (2.31.0)\n",
      "Requirement already satisfied: setuptools in /Users/daver/Desktop/College Work/NLP_Lab_Exam_Codes/.venv/lib/python3.12/site-packages (from tensorflow) (69.2.0)\n",
      "Requirement already satisfied: six>=1.12.0 in /Users/daver/Desktop/College Work/NLP_Lab_Exam_Codes/.venv/lib/python3.12/site-packages (from tensorflow) (1.16.0)\n",
      "Requirement already satisfied: termcolor>=1.1.0 in /Users/daver/Desktop/College Work/NLP_Lab_Exam_Codes/.venv/lib/python3.12/site-packages (from tensorflow) (2.4.0)\n",
      "Requirement already satisfied: typing-extensions>=3.6.6 in /Users/daver/Desktop/College Work/NLP_Lab_Exam_Codes/.venv/lib/python3.12/site-packages (from tensorflow) (4.10.0)\n",
      "Requirement already satisfied: wrapt>=1.11.0 in /Users/daver/Desktop/College Work/NLP_Lab_Exam_Codes/.venv/lib/python3.12/site-packages (from tensorflow) (1.16.0)\n",
      "Requirement already satisfied: grpcio<2.0,>=1.24.3 in /Users/daver/Desktop/College Work/NLP_Lab_Exam_Codes/.venv/lib/python3.12/site-packages (from tensorflow) (1.62.1)\n",
      "Requirement already satisfied: tensorboard<2.17,>=2.16 in /Users/daver/Desktop/College Work/NLP_Lab_Exam_Codes/.venv/lib/python3.12/site-packages (from tensorflow) (2.16.2)\n",
      "Requirement already satisfied: keras>=3.0.0 in /Users/daver/Desktop/College Work/NLP_Lab_Exam_Codes/.venv/lib/python3.12/site-packages (from tensorflow) (3.2.0)\n",
      "Requirement already satisfied: numpy<2.0.0,>=1.26.0 in /Users/daver/Desktop/College Work/NLP_Lab_Exam_Codes/.venv/lib/python3.12/site-packages (from tensorflow) (1.26.4)\n",
      "Requirement already satisfied: wheel<1.0,>=0.23.0 in /Users/daver/Desktop/College Work/NLP_Lab_Exam_Codes/.venv/lib/python3.12/site-packages (from astunparse>=1.6.0->tensorflow) (0.43.0)\n",
      "Requirement already satisfied: rich in /Users/daver/Desktop/College Work/NLP_Lab_Exam_Codes/.venv/lib/python3.12/site-packages (from keras>=3.0.0->tensorflow) (13.7.1)\n",
      "Requirement already satisfied: namex in /Users/daver/Desktop/College Work/NLP_Lab_Exam_Codes/.venv/lib/python3.12/site-packages (from keras>=3.0.0->tensorflow) (0.0.7)\n",
      "Requirement already satisfied: optree in /Users/daver/Desktop/College Work/NLP_Lab_Exam_Codes/.venv/lib/python3.12/site-packages (from keras>=3.0.0->tensorflow) (0.11.0)\n",
      "Requirement already satisfied: charset-normalizer<4,>=2 in /Users/daver/Desktop/College Work/NLP_Lab_Exam_Codes/.venv/lib/python3.12/site-packages (from requests<3,>=2.21.0->tensorflow) (3.3.2)\n",
      "Requirement already satisfied: idna<4,>=2.5 in /Users/daver/Desktop/College Work/NLP_Lab_Exam_Codes/.venv/lib/python3.12/site-packages (from requests<3,>=2.21.0->tensorflow) (3.6)\n",
      "Requirement already satisfied: urllib3<3,>=1.21.1 in /Users/daver/Desktop/College Work/NLP_Lab_Exam_Codes/.venv/lib/python3.12/site-packages (from requests<3,>=2.21.0->tensorflow) (2.2.1)\n",
      "Requirement already satisfied: certifi>=2017.4.17 in /Users/daver/Desktop/College Work/NLP_Lab_Exam_Codes/.venv/lib/python3.12/site-packages (from requests<3,>=2.21.0->tensorflow) (2024.2.2)\n",
      "Requirement already satisfied: markdown>=2.6.8 in /Users/daver/Desktop/College Work/NLP_Lab_Exam_Codes/.venv/lib/python3.12/site-packages (from tensorboard<2.17,>=2.16->tensorflow) (3.6)\n",
      "Requirement already satisfied: tensorboard-data-server<0.8.0,>=0.7.0 in /Users/daver/Desktop/College Work/NLP_Lab_Exam_Codes/.venv/lib/python3.12/site-packages (from tensorboard<2.17,>=2.16->tensorflow) (0.7.2)\n",
      "Requirement already satisfied: werkzeug>=1.0.1 in /Users/daver/Desktop/College Work/NLP_Lab_Exam_Codes/.venv/lib/python3.12/site-packages (from tensorboard<2.17,>=2.16->tensorflow) (3.0.2)\n",
      "Requirement already satisfied: MarkupSafe>=2.1.1 in /Users/daver/Desktop/College Work/NLP_Lab_Exam_Codes/.venv/lib/python3.12/site-packages (from werkzeug>=1.0.1->tensorboard<2.17,>=2.16->tensorflow) (2.1.5)\n",
      "Requirement already satisfied: markdown-it-py>=2.2.0 in /Users/daver/Desktop/College Work/NLP_Lab_Exam_Codes/.venv/lib/python3.12/site-packages (from rich->keras>=3.0.0->tensorflow) (3.0.0)\n",
      "Requirement already satisfied: pygments<3.0.0,>=2.13.0 in /Users/daver/Desktop/College Work/NLP_Lab_Exam_Codes/.venv/lib/python3.12/site-packages (from rich->keras>=3.0.0->tensorflow) (2.17.2)\n",
      "Requirement already satisfied: mdurl~=0.1 in /Users/daver/Desktop/College Work/NLP_Lab_Exam_Codes/.venv/lib/python3.12/site-packages (from markdown-it-py>=2.2.0->rich->keras>=3.0.0->tensorflow) (0.1.2)\n",
      "Note: you may need to restart the kernel to use updated packages.\n"
     ]
    }
   ],
   "source": [
    "%pip install tensorflow\n",
    "import tensorflow as tf\n",
    "from sklearn.feature_extraction.text import CountVectorizer\n",
    "from sklearn.naive_bayes import MultinomialNB\n",
    "from sklearn.model_selection import train_test_split"
   ]
  },
  {
   "cell_type": "code",
   "execution_count": 17,
   "metadata": {},
   "outputs": [],
   "source": [
    "# BoW\n",
    "vectorizer = CountVectorizer(stop_words='english')\n",
    "X_BOW = vectorizer.fit_transform(data_cleaned[\"text\"])"
   ]
  },
  {
   "cell_type": "code",
   "execution_count": 18,
   "metadata": {},
   "outputs": [
    {
     "data": {
      "text/plain": [
       "(497152, 261354)"
      ]
     },
     "execution_count": 18,
     "metadata": {},
     "output_type": "execute_result"
    }
   ],
   "source": [
    "X_BOW.shape"
   ]
  },
  {
   "cell_type": "code",
   "execution_count": 19,
   "metadata": {},
   "outputs": [
    {
     "data": {
      "text/plain": [
       "(497152, 261574)"
      ]
     },
     "execution_count": 19,
     "metadata": {},
     "output_type": "execute_result"
    }
   ],
   "source": [
    "# TF-IDF\n",
    "from sklearn.feature_extraction.text import TfidfVectorizer\n",
    "\n",
    "tfidf = TfidfVectorizer()\n",
    "X_tfidf = tfidf.fit_transform(data_cleaned[\"text\"])\n",
    "\n",
    "X_tfidf.shape"
   ]
  },
  {
   "cell_type": "code",
   "execution_count": 20,
   "metadata": {},
   "outputs": [
    {
     "data": {
      "text/plain": [
       "array([-1.1182606 ,  1.7777096 ,  0.7973752 ,  0.8141941 ,  1.3995241 ,\n",
       "       -0.79540646,  1.1742413 ,  2.8262644 , -0.12120201, -0.3273218 ,\n",
       "       -0.04284912, -0.22610478,  0.41366115,  0.10061679,  1.317079  ,\n",
       "        0.5151939 ,  0.9813977 , -0.6533208 , -2.0191126 ,  0.96022767,\n",
       "       -1.1635702 , -1.0577912 ,  1.3365839 , -2.6485252 ,  2.274607  ,\n",
       "       -0.2931893 , -1.7153697 , -1.4721566 , -3.6930425 , -1.1394417 ,\n",
       "        0.05420652, -1.2849993 , -0.83042616, -2.0884793 ,  0.47499567,\n",
       "        2.9425147 , -0.04272367, -0.83591   ,  0.8721052 ,  0.53756064,\n",
       "        0.9883547 , -1.3672761 , -1.0058049 ,  1.2677329 ,  0.79487175,\n",
       "       -1.1289707 ,  1.1040866 , -0.45718995, -0.7899515 ,  1.0882237 ,\n",
       "        3.9268768 , -0.34488592, -1.421561  , -1.2979196 , -2.804344  ,\n",
       "       -0.08888749,  1.4201676 ,  1.3335626 , -0.1557181 ,  0.14437312,\n",
       "       -0.27882034,  0.912197  ,  0.26403153, -1.1179705 , -1.4956924 ,\n",
       "        0.31003264,  0.66143256,  1.4282879 ,  0.11695191,  0.3349326 ,\n",
       "       -3.0083652 , -0.32806167, -0.4987916 ,  1.821455  , -0.6513416 ,\n",
       "       -0.28218478, -1.8635261 ,  2.0909107 ,  0.7099304 ,  1.2597969 ,\n",
       "       -1.4481602 , -0.23750892,  0.51585466, -0.05469036, -0.65884924,\n",
       "       -0.41227397, -0.9317997 ,  0.03983537,  0.10525757, -1.7931807 ,\n",
       "        0.74546534,  1.3583255 ,  0.83295584, -0.19858634,  0.5779053 ,\n",
       "        1.1176046 ,  1.756953  ,  0.14015418, -3.2798324 , -0.6669232 ],\n",
       "      dtype=float32)"
      ]
     },
     "execution_count": 20,
     "metadata": {},
     "output_type": "execute_result"
    }
   ],
   "source": [
    "# Continuous Bag of Words\n",
    "from gensim.models import Word2Vec\n",
    "\n",
    "corpus = [row.split() for row in data_cleaned[\"text\"]]\n",
    "model = Word2Vec(corpus, vector_size=100, window=5, min_count=1, workers=4)\n",
    "\n",
    "model.wv['good']"
   ]
  },
  {
   "cell_type": "code",
   "execution_count": 21,
   "metadata": {},
   "outputs": [
    {
     "data": {
      "text/plain": [
       "array([-3.29547286e-01,  4.69685733e-01,  2.63183057e-01,  1.51043385e-01,\n",
       "        4.86368954e-01, -2.26075500e-01,  3.54234129e-01,  6.94557786e-01,\n",
       "       -2.22389713e-01, -3.68814170e-01, -1.77476704e-01, -6.83002889e-01,\n",
       "        2.24974096e-01,  3.09925973e-01,  2.67965406e-01, -5.84631741e-01,\n",
       "        1.99876234e-01, -3.61189991e-02, -3.31291929e-02, -7.46793151e-01,\n",
       "        6.73167631e-02,  4.32450354e-01,  4.45160270e-01, -5.71976364e-01,\n",
       "        1.78891644e-01,  4.80847239e-01, -8.28774795e-02, -4.06122237e-01,\n",
       "       -6.81171298e-01,  9.30287838e-02,  3.53204429e-01,  6.39024097e-03,\n",
       "       -3.08226109e-01, -3.34249884e-01, -1.13148771e-01,  6.36421919e-01,\n",
       "       -3.34780157e-01, -4.88316149e-01,  1.83805823e-01, -2.85217285e-01,\n",
       "        2.78409183e-01, -5.44831872e-01,  1.99248996e-02, -2.35316738e-01,\n",
       "        4.40954566e-01, -3.74710888e-01,  2.30027661e-01, -2.47032166e-01,\n",
       "       -8.13237764e-03,  1.02975607e+00,  2.16338798e-01, -7.27806628e-01,\n",
       "       -8.78275186e-03, -2.13303775e-01, -3.97526890e-01,  6.36623874e-02,\n",
       "        1.90227330e-01,  5.56923687e-01, -2.11687595e-01,  1.64111480e-01,\n",
       "       -1.69491872e-01,  3.34473968e-01, -8.37635696e-02, -2.31057201e-02,\n",
       "       -8.47501755e-01,  5.28288603e-01,  1.29564166e-01,  6.82213545e-01,\n",
       "       -8.24883804e-02,  7.54733026e-01, -3.02606225e-01, -1.75604075e-01,\n",
       "        5.27666032e-01, -3.28696430e-01,  1.11831196e-01,  3.47959161e-01,\n",
       "       -2.77416021e-01, -2.17617035e-01,  1.41421586e-01,  2.76252627e-01,\n",
       "       -4.24781710e-01,  2.10393235e-01, -3.65055650e-01,  4.76216942e-01,\n",
       "       -1.64132826e-02,  2.47901231e-02, -2.42662310e-04,  1.54482871e-01,\n",
       "        2.94132829e-01,  3.90512273e-02,  7.41942942e-01,  1.51022347e-02,\n",
       "       -3.08928341e-01,  3.01901507e-03,  7.86607385e-01,  3.88287902e-01,\n",
       "       -4.18114960e-02,  2.64712367e-02,  5.94517924e-02, -1.10235326e-02],\n",
       "      dtype=float32)"
      ]
     },
     "execution_count": 21,
     "metadata": {},
     "output_type": "execute_result"
    }
   ],
   "source": [
    "# Skip Gram\n",
    "\n",
    "from gensim.models import Word2Vec\n",
    "\n",
    "corpus = [row.split() for row in data_cleaned[\"text\"]]\n",
    "model_sg = Word2Vec(corpus, vector_size=100, window=5, min_count=1, sg=1, workers=4)\n",
    "\n",
    "model_sg.wv['good']"
   ]
  },
  {
   "cell_type": "markdown",
   "metadata": {},
   "source": [
    "## Model Building"
   ]
  },
  {
   "cell_type": "code",
   "execution_count": 22,
   "metadata": {},
   "outputs": [],
   "source": [
    "from keras.utils import to_categorical\n",
    "from keras.layers import Dense,SimpleRNN,Embedding,Flatten\n",
    "from keras.models import Sequential\n",
    "\n",
    "from keras.utils import pad_sequences"
   ]
  },
  {
   "cell_type": "code",
   "execution_count": 23,
   "metadata": {},
   "outputs": [
    {
     "data": {
      "text/plain": [
       "[array([-0.41702428,  0.7543085 ,  0.23013362,  0.09798618, -0.05113993,\n",
       "        -0.5643958 , -0.00301535,  0.35979074, -0.17433064, -0.702858  ,\n",
       "        -0.31191343,  0.12797348, -0.03602573, -0.12030561,  0.2502345 ,\n",
       "        -0.11915765,  0.2952049 , -0.47085777,  0.14797251, -0.67680556,\n",
       "         0.37875062, -0.07424723,  0.01022182,  0.01705857, -0.2500005 ,\n",
       "         0.14489642, -0.18030508,  0.2522615 , -0.6190076 , -0.0309769 ,\n",
       "        -0.26808903, -0.3745586 ,  0.298401  , -0.02193589,  0.13528177,\n",
       "         0.6138308 , -0.44820544, -0.33143553, -0.58981663, -0.5356574 ,\n",
       "         0.46984562, -0.35260516,  0.2403222 , -0.29928496,  0.33920068,\n",
       "        -0.27917305, -0.39974925, -0.35565653,  0.6241776 ,  0.07282512,\n",
       "         0.06566047, -0.44675037, -0.45237282, -0.46944106, -0.5150804 ,\n",
       "         0.41656467,  0.34487677, -0.06763136, -0.3050555 , -0.24599636,\n",
       "        -0.21111742,  0.0976947 , -0.39384472, -0.31348228, -0.4690299 ,\n",
       "         0.7010563 ,  0.04475857,  0.12481832, -0.7184358 ,  0.29432863,\n",
       "        -0.31309447, -0.23360878,  0.36418444, -0.4824033 ,  0.23510948,\n",
       "         0.1255357 , -0.3940263 ,  0.06033237, -0.5511159 ,  0.22715564,\n",
       "         0.1302424 ,  0.22905014, -0.54342574,  0.00974313, -0.10904836,\n",
       "        -0.33320147,  0.35484803,  0.40282738,  0.1633927 ,  0.56449586,\n",
       "         0.7401084 , -0.27573603, -0.41582763,  0.17349347,  1.0336143 ,\n",
       "         0.02873151,  0.17241555, -0.00350163, -0.33421132, -0.31143972],\n",
       "       dtype=float32),\n",
       " array([-1.26366287e-01,  7.06511974e-01,  5.06939232e-01, -4.81427699e-01,\n",
       "        -1.28582701e-01, -3.55105400e-01,  2.27415301e-02,  2.84116954e-01,\n",
       "        -2.15511262e-01,  4.81616408e-01, -1.24690346e-01, -3.68288994e-01,\n",
       "        -2.96307683e-01,  3.54823947e-01,  5.61016262e-01, -1.60373494e-01,\n",
       "         5.28770447e-01, -5.73580205e-01,  1.31706044e-01, -6.98519170e-01,\n",
       "         3.71862233e-01,  1.09738246e-01,  8.40760648e-01, -5.58257878e-01,\n",
       "        -3.58926326e-01,  2.99180686e-01, -6.50102735e-01,  4.18253452e-01,\n",
       "        -6.65092170e-01,  4.11190569e-01,  3.44271570e-01,  5.53863168e-01,\n",
       "         4.09440249e-01, -2.40295395e-01,  2.13769097e-02, -1.34121701e-01,\n",
       "        -7.89691746e-01, -8.49128664e-02, -7.77333081e-01, -9.76432562e-01,\n",
       "         5.50788224e-01, -1.22668155e-01,  2.72273440e-02,  2.51532038e-04,\n",
       "         3.63463938e-01, -2.90623188e-01,  1.22931581e-02,  1.74943388e-01,\n",
       "        -2.09724098e-01,  9.58663449e-02, -1.32762387e-01, -2.01410279e-01,\n",
       "        -5.62241554e-01, -3.62660021e-01, -4.23553288e-01, -1.91312537e-01,\n",
       "         6.31889641e-01,  1.21681876e-01, -6.87715188e-02,  2.77018221e-03,\n",
       "        -2.56954849e-01,  6.01839244e-01,  8.79149735e-02,  5.50678670e-01,\n",
       "        -8.18773687e-01,  3.56927335e-01,  4.92063072e-03,  2.23179340e-01,\n",
       "        -4.37084854e-01,  1.11259508e+00, -4.79433864e-01, -5.39188683e-01,\n",
       "         4.82831597e-01, -6.55292273e-01,  8.95581782e-01,  5.56362569e-01,\n",
       "        -1.24662548e-01,  7.73236230e-02, -8.56682301e-01,  5.18966615e-01,\n",
       "        -4.22264189e-01, -4.15551811e-01, -7.28204608e-01,  7.74114847e-01,\n",
       "         1.39291763e-01,  2.44780362e-01,  3.64400804e-01,  1.76597416e-01,\n",
       "         4.01055396e-01,  3.62246960e-01,  1.07111418e+00, -5.01015902e-01,\n",
       "        -6.37957871e-01,  4.02096480e-01,  7.45571733e-01,  1.34063673e+00,\n",
       "         3.02776247e-01, -1.63961540e-03, -2.33236805e-01,  3.09053063e-01],\n",
       "       dtype=float32),\n",
       " array([-0.09901497,  0.7898296 ,  0.29701582, -0.47636607, -0.00253627,\n",
       "        -0.37187737, -0.01607829,  0.60361534, -0.47072095, -0.07956545,\n",
       "        -0.1710581 , -0.64390105,  0.04668235, -0.49324146,  0.6366888 ,\n",
       "        -0.5901804 ,  0.39517367, -0.53714275,  0.1270629 , -0.3961646 ,\n",
       "        -0.18664399,  0.37422013,  0.18455033, -0.2346307 ,  0.18626298,\n",
       "         0.3323677 , -0.5438083 , -0.2578159 , -0.4785974 , -0.15020482,\n",
       "         0.24893086, -0.2693991 ,  0.6852858 , -0.26697645,  0.07770851,\n",
       "         0.62899387, -0.44197413, -0.33973235, -0.6497593 , -0.7362376 ,\n",
       "         0.09989699, -0.14115214, -0.23594986,  0.30467254,  0.4270532 ,\n",
       "        -0.2933876 , -0.04466387, -0.12213647,  0.22813138,  0.14464839,\n",
       "        -0.09261553, -0.57324004, -0.6180901 , -0.18892989, -0.0471235 ,\n",
       "         0.16107191, -0.28167272,  0.33818454, -1.0437903 , -0.3133881 ,\n",
       "        -0.00843001, -0.17133962, -0.3688199 , -0.01270641, -0.4289112 ,\n",
       "         0.3956828 , -0.4594658 ,  0.24305908, -0.9363697 ,  0.48758802,\n",
       "        -0.5972977 ,  0.19467606,  0.30398706, -0.22931415,  0.7038706 ,\n",
       "         0.16504396, -0.0295914 , -0.1824179 , -0.08220261,  0.4459465 ,\n",
       "        -0.24447186, -0.02126778, -0.87727696,  0.14755234,  0.05009815,\n",
       "        -0.22692013, -0.0098571 ,  0.42528012,  0.21614248,  0.4742905 ,\n",
       "         0.6008664 ,  0.15974139, -0.20324643, -0.44760957,  1.0677611 ,\n",
       "         0.3949719 , -0.05546613,  0.21708131, -0.29307017, -0.01920699],\n",
       "       dtype=float32),\n",
       " array([-0.10415149,  0.74675167,  0.37095946, -0.22912875,  0.31114653,\n",
       "         0.15384614, -0.2880557 ,  0.7590439 , -0.3607096 ,  0.57475317,\n",
       "        -0.592212  , -0.54837155, -0.14012793, -0.04669393,  0.65323406,\n",
       "        -0.20021795,  0.13090992, -0.30774048,  0.5883468 , -0.8465154 ,\n",
       "        -0.29611853,  0.3375741 ,  0.25994095, -0.6534609 , -0.2969498 ,\n",
       "        -0.07600764, -0.5702996 , -0.31191662, -0.23259623, -0.38106403,\n",
       "         0.25791752,  0.16787237,  0.600956  , -0.95513445,  0.01651489,\n",
       "         0.18323903, -0.25062832, -0.22931205, -0.6048721 , -0.9030399 ,\n",
       "         0.39526525, -0.06544733, -0.46472204,  0.22326903,  0.36082426,\n",
       "        -0.31127205, -0.6442939 ,  0.04213526,  0.11963873,  0.3404264 ,\n",
       "         0.6186641 , -0.17543799, -0.4699366 , -0.00529077, -0.63541204,\n",
       "        -0.2746599 ,  0.32075918,  0.611424  ,  0.02920459,  0.24995571,\n",
       "         0.02393961,  0.09770453,  0.14818408,  0.00392557, -0.06792902,\n",
       "         0.7464891 , -0.15638828,  0.09288934, -0.4856418 ,  1.0424211 ,\n",
       "        -0.4014489 ,  0.14449112,  0.42773965, -0.4583714 ,  1.3771496 ,\n",
       "         0.35167372,  0.06515384, -0.35638708, -1.2372555 ,  0.1716091 ,\n",
       "        -0.4321478 , -0.10732263, -0.52511066,  0.5282485 , -0.15913484,\n",
       "         0.3626306 ,  0.02712136,  0.5546837 ,  0.5073507 , -0.21437354,\n",
       "         0.4171571 , -0.12877813, -0.48595583,  0.5141679 ,  0.6564867 ,\n",
       "         0.74208736,  0.5927569 ,  0.27072138, -0.33299348, -0.32856536],\n",
       "       dtype=float32),\n",
       " array([-0.23095466,  0.4479813 ,  0.2719581 ,  0.28773978,  0.42960504,\n",
       "        -0.41020212,  0.09995572,  0.84948635,  0.06426909,  0.5356682 ,\n",
       "        -0.49717587, -1.0841421 , -0.06026318,  0.3375392 ,  0.46231452,\n",
       "        -0.615871  ,  0.22420147, -0.52347577,  0.19666727, -1.2177386 ,\n",
       "        -0.04456266,  0.13919027,  0.0589904 , -0.2604489 , -0.4987262 ,\n",
       "         0.06596947, -0.5042775 ,  0.18554375, -0.649704  ,  0.17579517,\n",
       "         0.7306021 ,  0.46103635,  0.09286495, -0.1914124 ,  0.1045943 ,\n",
       "         0.5071897 , -0.38753253, -0.48361546, -0.33718598, -0.96877515,\n",
       "         0.20644042,  0.05093178, -0.20392232,  0.2504565 ,  0.48955357,\n",
       "        -0.14727253, -0.4451401 , -0.2500838 , -0.3952832 ,  0.67687273,\n",
       "        -0.29737332, -0.2973549 , -0.9844669 , -0.05882138, -0.5349482 ,\n",
       "         0.44450188,  0.06150477,  0.39245686, -0.5364042 , -0.25380847,\n",
       "        -0.12097612,  0.2663039 ,  0.63225156,  0.12923113, -0.383446  ,\n",
       "         0.44693062, -0.31244233,  0.67475307, -0.4608369 ,  1.0660272 ,\n",
       "        -0.5771639 , -0.1361182 ,  0.5615371 , -0.4114859 ,  0.17611863,\n",
       "         0.5352836 ,  0.13201575,  0.09306169, -0.6159099 ,  0.10384064,\n",
       "        -0.43468407, -0.19437835, -0.6255008 ,  0.15767983,  0.24543454,\n",
       "         0.32833618,  0.05924746, -0.11346976,  0.26558357,  0.4402037 ,\n",
       "         0.95642596, -0.52886134,  0.06824227,  0.6318298 ,  0.62827015,\n",
       "         0.7645877 ,  0.28804743,  0.14916152,  0.05840983,  0.20327021],\n",
       "       dtype=float32),\n",
       " array([-0.18177587,  0.29689783,  0.5498956 ,  0.01046082,  0.2093801 ,\n",
       "        -0.3486132 ,  0.5074645 ,  0.72704715, -0.50868654,  0.2233395 ,\n",
       "        -0.06787357, -0.8416877 ,  0.5110933 , -0.396594  ,  0.23366591,\n",
       "        -0.37573496,  0.07299399, -0.6243575 ,  0.0216175 , -0.9182085 ,\n",
       "         0.26307648,  0.5438927 ,  0.1076777 , -0.16629542, -0.3347693 ,\n",
       "        -0.3783332 , -0.33156988, -0.5897567 , -0.72981846, -0.525758  ,\n",
       "         0.12822902,  0.48427516,  0.51711166,  0.08394409, -0.2636074 ,\n",
       "         0.42050737,  0.5471199 , -0.44188654,  0.08413989, -0.8115478 ,\n",
       "         0.06875486, -0.31109253, -0.29885522,  0.3580122 ,  0.6910601 ,\n",
       "        -0.07133593, -0.47726688, -0.01152442, -0.00426428,  0.18281914,\n",
       "         0.26569736, -0.29270762, -0.362169  , -0.42575508, -0.3066768 ,\n",
       "        -0.05109456,  0.6001852 ,  0.03337631, -0.54860467,  0.09655775,\n",
       "        -0.20033692, -0.30018303,  0.07010338, -0.3534725 , -0.40518603,\n",
       "         0.40511185,  0.05899879,  0.38305563, -0.8737435 ,  0.5513878 ,\n",
       "        -1.0626812 ,  0.32599172,  0.3746777 , -0.03874522,  0.6593717 ,\n",
       "         0.27453834,  0.0068243 , -0.5133031 , -0.45081007,  0.20107026,\n",
       "        -0.6183225 , -0.15452859, -0.93538344,  0.5538443 ,  0.06623528,\n",
       "         0.289234  ,  0.28310654,  0.3363889 ,  0.29308027,  0.23153266,\n",
       "         0.41231334, -0.03033672, -0.05448534, -0.3390461 ,  0.74041504,\n",
       "         0.2788884 ,  0.3896775 ,  0.05327924, -0.02421061,  0.33134598],\n",
       "       dtype=float32),\n",
       " array([-0.34492815,  0.02615537,  0.2914082 ,  0.15795955,  0.19124526,\n",
       "        -0.21266481,  0.12148127,  0.68471396, -0.01096711, -0.07865548,\n",
       "         0.01690682, -0.7631748 ,  0.20198546, -0.25124675, -0.17742953,\n",
       "        -0.48563927,  0.12680903, -0.59844226, -0.06792361, -0.4873763 ,\n",
       "         0.26408753,  0.48398614,  0.15360849, -0.24334413, -0.23932393,\n",
       "         0.00164338, -0.6186432 ,  0.09847806, -0.8185102 ,  0.01501322,\n",
       "         0.2760449 , -0.01297551,  0.08147857, -0.0213996 , -0.19566554,\n",
       "         0.23962018, -0.39292973, -0.68124235, -0.5683962 , -0.5451931 ,\n",
       "        -0.16413693, -0.32879838,  0.41992489,  0.35828528,  0.16009544,\n",
       "        -0.39936984,  0.14069086, -0.13624589,  0.21923727,  0.24963553,\n",
       "        -0.3676488 , -0.5113065 , -0.27739367, -0.07662699, -0.22865513,\n",
       "         0.33698773,  0.02996292,  0.2766022 , -0.4732083 ,  0.5417413 ,\n",
       "         0.5395522 , -0.28371078,  0.39382297,  0.25849164, -0.01622462,\n",
       "         0.5543085 , -0.10377722,  0.5681552 , -0.6035661 ,  1.0083582 ,\n",
       "        -0.55553406, -0.10760674,  0.59524375, -0.14198832,  0.9282818 ,\n",
       "        -0.14102729,  0.16909404, -0.39285994, -0.40398073, -0.2633183 ,\n",
       "        -0.43673158, -0.51487654, -0.38156888,  0.16910015, -0.17744613,\n",
       "         0.29548964,  0.07911508,  0.29632616,  1.0476365 ,  0.07162286,\n",
       "         0.7723773 , -0.143454  ,  0.14572684,  0.15124361,  0.68193597,\n",
       "         0.05669073,  0.49727562,  0.23485434, -0.0647679 ,  0.15397526],\n",
       "       dtype=float32),\n",
       " array([-0.2704446 ,  0.69916224,  0.44243163,  0.21781605,  0.45293698,\n",
       "         0.12994243, -0.05543039,  0.5654127 ,  0.13406013, -0.02039199,\n",
       "        -0.45976272, -1.0752174 , -0.13466021,  0.20151031,  0.3994187 ,\n",
       "        -0.45525268, -0.48426652, -0.0059304 ,  0.6665396 , -0.5581589 ,\n",
       "         0.16784795,  0.19174308, -0.63752407,  0.48692167,  0.13447088,\n",
       "         0.5855146 , -0.33765653, -0.04137395, -0.09612615, -0.29838443,\n",
       "        -0.4570511 ,  1.0632635 ,  0.01611454, -0.35099694, -0.13087188,\n",
       "         0.4831983 , -0.12978543, -1.2389468 , -0.23813243, -0.51121783,\n",
       "        -0.06741289, -0.32653722, -0.5295178 , -0.03105871,  0.60187066,\n",
       "        -0.27378854, -0.20765594,  0.00196275,  0.34808856,  0.0215681 ,\n",
       "        -0.00681394, -0.45408225, -0.1722786 ,  0.00223312,  0.42500246,\n",
       "         0.882061  ,  0.0627498 ,  0.63474035, -0.30232197, -0.08747464,\n",
       "        -0.41525313, -0.02977798, -0.42302603,  0.4485278 ,  0.22970916,\n",
       "         1.0807625 , -0.30364743,  0.40948606, -0.701941  ,  0.63892573,\n",
       "        -0.6497648 ,  0.23754023,  0.3604395 , -0.3581577 , -0.09149915,\n",
       "         0.7904431 , -0.4413934 , -0.2834578 , -0.07271406,  0.09534336,\n",
       "        -0.36359924, -0.39228016, -0.20678869,  0.7561541 , -0.29234627,\n",
       "         0.37522906,  0.51230955,  0.2165493 ,  0.73644197, -0.17342669,\n",
       "         1.1066725 ,  0.1118881 , -0.2520531 ,  0.3371519 ,  1.1359403 ,\n",
       "        -0.13479912,  0.09718039, -0.13732025,  0.13719042,  0.26293847],\n",
       "       dtype=float32),\n",
       " array([-0.5092138 ,  0.7038832 , -0.32839602,  0.14983863, -0.16399859,\n",
       "        -0.31968972,  0.42252705,  0.2685897 , -0.40748072,  0.75377405,\n",
       "        -0.48773086, -0.90675783, -0.00455107, -0.0278798 ,  0.02424823,\n",
       "        -0.4246609 ,  0.47450563,  0.05764703, -0.4176032 , -0.656925  ,\n",
       "         0.09277202,  0.58653766, -0.11551674, -0.2851235 , -0.06493101,\n",
       "         0.22475098, -0.21518356, -0.27511927, -1.0100999 , -0.34523034,\n",
       "         0.17690755,  0.25355622, -0.24890088,  0.18539181, -0.02836803,\n",
       "         0.11008291, -0.5791378 , -0.24792457, -0.03673429, -1.4989223 ,\n",
       "        -0.0386364 , -0.8136635 , -0.76796204, -0.1526798 ,  0.39691722,\n",
       "        -0.12974167, -0.09736679, -0.00725541,  0.08604074,  0.11798179,\n",
       "        -0.06448337, -0.17180227, -0.43015122, -0.39333287,  0.3407044 ,\n",
       "        -0.3958401 ,  0.24880607,  0.38030654, -0.4147782 , -0.08634727,\n",
       "        -0.0276427 ,  0.03052394,  0.01959747, -0.02442572, -0.4911136 ,\n",
       "         0.8309015 , -0.08152599,  0.37524894, -1.1623039 ,  0.6076618 ,\n",
       "        -0.21905018,  0.184253  ,  0.50609535, -0.5694316 ,  0.4177543 ,\n",
       "         0.39432356, -0.24225286, -0.51908183, -0.45479766, -0.25461367,\n",
       "         0.03376836, -0.0785289 , -0.06515584,  1.0306427 , -0.23856409,\n",
       "        -0.1275647 , -0.13689335,  0.432557  ,  0.48751035,  0.12683436,\n",
       "         0.7071156 , -0.37072885,  0.16776754,  0.2068665 ,  0.8730931 ,\n",
       "         1.1000694 ,  0.33391505, -0.48594534,  0.40223074,  0.64679307],\n",
       "       dtype=float32),\n",
       " array([-0.08834356,  0.5626055 ,  0.3154589 ,  0.08017018,  0.10766257,\n",
       "        -0.34864312,  0.37506342,  0.9697983 ,  0.3392869 ,  0.4488092 ,\n",
       "        -0.5584612 , -0.8335459 , -0.13493912, -0.21479371,  0.11777487,\n",
       "        -0.7877241 ,  0.13353342, -1.123622  ,  0.29759634, -0.87377113,\n",
       "         0.30227268,  0.5604163 ,  0.04820389, -0.32031724,  0.16067895,\n",
       "         0.23385099, -0.5499887 , -0.12334264, -0.535559  , -0.67156196,\n",
       "         0.7281811 ,  0.37533   ,  0.32904705, -0.33396807, -0.02509549,\n",
       "         0.13413243,  0.12965764, -0.2605019 , -0.5684077 , -0.5798957 ,\n",
       "         0.22727954, -0.62485117, -0.24610355,  0.23367019,  0.19613414,\n",
       "        -0.16620535, -0.19457604,  0.05662849,  0.32457006,  0.4612076 ,\n",
       "        -0.1179484 , -0.11202766, -0.8261943 , -0.17751412, -0.34532607,\n",
       "         0.41953114,  0.6079532 ,  0.59815276, -0.38446686,  0.19101033,\n",
       "         0.22973716, -0.27066088,  0.26558292,  0.28854316, -0.7815525 ,\n",
       "         0.02775259, -0.36158392,  0.43729064, -0.8496006 ,  0.376294  ,\n",
       "        -0.27691174,  0.13644417,  0.86766255, -0.25361785,  0.9642934 ,\n",
       "         0.57982856,  0.21961159, -0.26916263, -0.29913712,  0.00762684,\n",
       "        -0.46784148, -0.08953162, -0.31768915,  0.55489284, -0.2656388 ,\n",
       "         0.29520592,  0.49821243,  0.22642447,  0.43543842, -0.10875583,\n",
       "         0.44267872,  0.23723653,  0.448806  ,  0.280815  ,  0.4152131 ,\n",
       "         0.48669863, -0.3519458 , -0.13600697, -0.48993817, -0.19320588],\n",
       "       dtype=float32),\n",
       " array([-0.43389374,  0.07125448,  0.42693332,  0.3365927 ,  0.47136086,\n",
       "        -0.3210002 , -0.1058502 ,  0.31365877, -0.7459623 ,  0.11592074,\n",
       "        -0.1220516 , -0.7104124 ,  0.33220342,  0.3792028 ,  0.35534033,\n",
       "        -0.01554696,  0.22788128, -0.5306961 , -0.1750497 , -0.7074602 ,\n",
       "         0.09089393,  0.41815162, -0.29048163, -0.02976186,  0.06936896,\n",
       "         0.08456429, -0.5455966 ,  0.11397764, -0.18878752, -0.21684466,\n",
       "         0.33912012,  0.16161269,  0.06849496, -0.090266  , -0.8529019 ,\n",
       "         1.0072068 ,  0.10428637, -0.14458139, -0.5797206 , -0.9352754 ,\n",
       "        -0.6644685 , -0.4421785 , -0.17310153,  0.50911844,  0.4907048 ,\n",
       "        -0.6512272 ,  0.09889749,  0.09527579, -0.26617852,  0.34994388,\n",
       "         0.568823  ,  0.04499361, -0.6436691 , -0.5360004 , -0.15550986,\n",
       "         0.03473521,  0.30966967,  0.203227  , -0.34970295, -0.05235796,\n",
       "        -0.33149058, -0.07827177, -0.06077825,  0.33037737, -0.11072377,\n",
       "         0.21283865, -0.10050822,  0.59649605, -0.1386616 ,  0.82146144,\n",
       "        -0.1525639 , -0.08776711,  0.39237234, -0.59590846,  0.41438076,\n",
       "         0.45904756, -0.3523447 ,  0.18542287, -0.22297609,  0.25695312,\n",
       "        -0.31140584, -0.5588401 , -0.36705795,  1.1205133 ,  0.10613515,\n",
       "         0.25089097,  0.32777056,  1.0629148 ,  0.2241531 ,  0.2011743 ,\n",
       "         0.88866425, -0.2392262 , -0.05463799,  0.10233573,  0.50113946,\n",
       "         0.5175039 ,  0.08337632,  0.04891909, -0.48581296, -0.02526237],\n",
       "       dtype=float32),\n",
       " array([-0.5260691 ,  0.18454593,  0.10194391,  0.35922638,  0.53089905,\n",
       "        -0.24915472,  0.07927652,  0.42402026, -0.34832785, -0.1587327 ,\n",
       "        -0.24780297, -0.61470544,  0.34368673,  0.40496537,  0.1080256 ,\n",
       "        -0.83102834,  0.1308777 , -0.5187904 , -0.12703778, -0.73489934,\n",
       "        -0.39877713,  0.65881675, -0.2893549 ,  0.49046466, -0.18608607,\n",
       "         0.30929798, -0.89831376, -0.11279945, -0.4021003 , -0.12300014,\n",
       "         1.2306962 , -0.31394956,  0.12050442, -0.40833   , -0.49655318,\n",
       "         0.65418017, -0.09239269, -0.19940427,  0.18938573, -0.98205405,\n",
       "        -0.05938412, -0.47401652, -0.5459225 ,  0.36348876,  0.1619038 ,\n",
       "        -0.5945941 ,  0.04171027,  0.00534011, -0.34205985,  0.43473628,\n",
       "         0.22724193,  0.16041806, -1.0869014 ,  0.02951193, -0.46133277,\n",
       "         0.14846464,  0.26906815,  0.11198595, -0.30069163,  0.25607908,\n",
       "        -0.12974897,  0.17465842,  0.12679249,  0.65369654, -0.35184458,\n",
       "         0.08702254,  0.20986934,  0.92431426, -0.67398274,  0.6458949 ,\n",
       "        -0.19324265,  0.20665114,  0.5882467 , -0.74386   ,  0.685752  ,\n",
       "         0.28412822, -0.33319125,  0.146564  ,  0.11603765, -0.0749985 ,\n",
       "        -0.16031645, -0.34911993, -0.8584343 ,  0.55525714,  0.17946473,\n",
       "         0.05765167, -0.10749432,  0.6488917 ,  0.06692923,  0.3206063 ,\n",
       "         0.24154378,  0.15337689,  0.04906013,  0.05179658,  0.6335407 ,\n",
       "         0.83946294,  0.07268229,  0.05229704, -0.34129646,  0.3503884 ],\n",
       "       dtype=float32),\n",
       " array([-8.74361455e-01,  6.86319411e-01, -2.46526867e-01, -3.43737781e-01,\n",
       "        -4.04338986e-01, -2.23941460e-01, -3.65663737e-01,  7.26973712e-01,\n",
       "        -3.39989275e-01,  4.36739624e-02, -8.33836913e-01, -6.22100472e-01,\n",
       "        -2.06930935e-01, -9.59225520e-02, -8.88845697e-02, -7.21934617e-01,\n",
       "         1.30987868e-01, -4.98238176e-01, -1.55607730e-01, -1.17844510e+00,\n",
       "         1.96472034e-01,  2.53299862e-01, -9.51574862e-01, -2.52365857e-01,\n",
       "        -5.10047555e-01, -1.93635508e-01, -3.47130984e-01,  1.52608454e-02,\n",
       "        -2.42452487e-01, -2.95243621e-01,  1.38065919e-01,  4.41043407e-01,\n",
       "        -7.91696668e-01, -3.66548121e-01, -3.40720862e-01, -2.27821052e-01,\n",
       "         4.57166741e-03, -1.08429027e+00,  1.40912145e-01, -7.81326473e-01,\n",
       "         4.65799719e-01, -2.82053649e-01, -1.65494263e-01, -1.20855086e-01,\n",
       "         1.09565079e+00,  2.39111736e-01,  5.71912825e-01,  4.30823028e-01,\n",
       "         2.80146718e-01,  3.26887339e-01,  1.23015359e-01, -7.96428800e-01,\n",
       "         4.94021922e-01, -9.60900038e-02, -3.34358886e-02,  7.23755583e-02,\n",
       "         1.31716549e-01,  5.16852617e-01, -1.22436874e-01, -9.08978134e-02,\n",
       "         9.74632442e-01,  9.61637199e-02,  2.28585154e-01, -7.10482001e-02,\n",
       "        -5.09477794e-01,  6.21909082e-01,  9.70679596e-02,  4.06395853e-01,\n",
       "        -2.00728327e-01,  7.39943326e-01, -4.52827364e-01,  7.21254468e-01,\n",
       "         4.92683530e-01, -5.08863568e-01,  3.26534837e-01,  2.91628629e-01,\n",
       "        -2.75303334e-01, -1.09874696e-01, -2.80542642e-01,  4.33682024e-01,\n",
       "        -7.72219896e-02, -7.70278990e-01, -7.98057258e-01, -1.44980118e-01,\n",
       "         2.86259323e-01,  3.89098316e-01,  7.06236720e-01,  9.53751028e-01,\n",
       "         3.59260678e-01,  1.14988320e-01,  1.06634343e+00, -2.89488792e-01,\n",
       "         5.01764705e-04,  1.73079714e-01,  5.48146367e-01,  4.44019914e-01,\n",
       "         5.62741578e-01,  2.11139068e-01, -7.53584318e-03,  1.85283631e-01],\n",
       "       dtype=float32),\n",
       " array([-0.23220415,  0.60106593,  0.3455563 ,  0.2728056 ,  0.31571162,\n",
       "        -0.21571067,  0.26902154,  0.7668122 , -0.542149  ,  0.06612305,\n",
       "        -0.1289845 , -0.6684068 , -0.2201062 , -0.25257936,  0.6054575 ,\n",
       "        -0.8663797 , -0.3190978 , -0.9011815 , -0.37629306, -0.9462186 ,\n",
       "         0.4159392 ,  0.6564176 ,  0.2198623 ,  0.0660712 ,  0.40490785,\n",
       "         0.2638635 , -0.56567866, -0.35074142, -0.6631004 , -0.46918282,\n",
       "         0.33429193,  0.3547889 , -0.04614459, -0.22707084, -0.16096397,\n",
       "         0.30992335,  0.22184655,  0.08608591, -0.48331207, -0.3770377 ,\n",
       "         0.15151714, -0.1265297 , -0.11238264,  0.04396196,  0.6662938 ,\n",
       "        -0.26664087, -0.05750188,  0.4144946 ,  0.34886506,  0.34265277,\n",
       "         0.02304527, -0.6527691 , -0.48054487, -0.32301491,  0.1443652 ,\n",
       "         0.06903461,  0.71191615,  0.1502889 , -0.5559361 ,  0.15220377,\n",
       "         0.49595883,  0.27903128,  0.27880773, -0.1680261 ,  0.09264825,\n",
       "        -0.29351372, -0.20170204, -0.2326259 , -1.0310447 ,  0.460543  ,\n",
       "        -0.5620003 ,  0.11816075,  0.27211598, -0.6058982 ,  0.02409146,\n",
       "        -0.11920256,  0.0193872 , -0.42226022,  0.1351018 ,  0.3145104 ,\n",
       "        -0.23216555, -0.02088915, -0.49211925,  0.9384353 , -0.02750196,\n",
       "         0.07448059,  0.598187  ,  0.86146307,  0.21356905, -0.4221929 ,\n",
       "         0.6391401 ,  0.35998788,  0.1232951 ,  0.14075054,  0.8110997 ,\n",
       "         0.7975506 , -0.35631782,  0.26528126, -0.58478993, -0.23445567],\n",
       "       dtype=float32)]"
      ]
     },
     "execution_count": 23,
     "metadata": {},
     "output_type": "execute_result"
    }
   ],
   "source": [
    "# Create embeddings for training data\n",
    "embeddings = []\n",
    "\n",
    "for row in data_cleaned[\"text\"]:\n",
    "    row_embedding = []\n",
    "    for word in row.split():\n",
    "        if word in model_sg.wv:\n",
    "            row_embedding.append(model_sg.wv[word])\n",
    "    embeddings.append(row_embedding)\n",
    "\n",
    "embeddings[0]"
   ]
  },
  {
   "cell_type": "code",
   "execution_count": 24,
   "metadata": {},
   "outputs": [
    {
     "data": {
      "text/plain": [
       "(497152, 20, 100)"
      ]
     },
     "execution_count": 24,
     "metadata": {},
     "output_type": "execute_result"
    }
   ],
   "source": [
    "# Pad Sequences\n",
    "\n",
    "max_length = 20\n",
    "\n",
    "X_pad = pad_sequences(embeddings, maxlen=max_length, padding='post')\n",
    "\n",
    "X_pad.shape"
   ]
  },
  {
   "cell_type": "code",
   "execution_count": 25,
   "metadata": {},
   "outputs": [
    {
     "data": {
      "text/plain": [
       "(497152,)"
      ]
     },
     "execution_count": 25,
     "metadata": {},
     "output_type": "execute_result"
    }
   ],
   "source": [
    "y = data_cleaned[\"Sentiment\"]\n",
    "\n",
    "y.shape"
   ]
  },
  {
   "cell_type": "code",
   "execution_count": 26,
   "metadata": {},
   "outputs": [
    {
     "data": {
      "text/plain": [
       "(397721, 20, 100)"
      ]
     },
     "execution_count": 26,
     "metadata": {},
     "output_type": "execute_result"
    }
   ],
   "source": [
    "# Train test split\n",
    "X_train, X_test, y_train, y_test = train_test_split(X_pad, y, test_size=0.2, random_state=42)\n",
    "\n",
    "X_train.shape"
   ]
  },
  {
   "cell_type": "code",
   "execution_count": 27,
   "metadata": {},
   "outputs": [],
   "source": [
    "y_train = to_categorical(y_train, 3)\n",
    "y_test = to_categorical(y_test, 3)"
   ]
  },
  {
   "cell_type": "code",
   "execution_count": 28,
   "metadata": {},
   "outputs": [
    {
     "data": {
      "text/plain": [
       "array([[0, 0, 0, ..., 0, 0, 0],\n",
       "       [0, 0, 0, ..., 0, 0, 0],\n",
       "       [0, 0, 0, ..., 0, 0, 0],\n",
       "       ...,\n",
       "       [0, 0, 0, ..., 0, 0, 0],\n",
       "       [0, 0, 0, ..., 0, 0, 0],\n",
       "       [0, 0, 0, ..., 0, 0, 0]], dtype=int32)"
      ]
     },
     "execution_count": 28,
     "metadata": {},
     "output_type": "execute_result"
    }
   ],
   "source": [
    "X_train[0]"
   ]
  },
  {
   "cell_type": "code",
   "execution_count": 29,
   "metadata": {},
   "outputs": [
    {
     "name": "stdout",
     "output_type": "stream",
     "text": [
      "Epoch 1/5\n",
      "\u001b[1m6215/6215\u001b[0m \u001b[32m━━━━━━━━━━━━━━━━━━━━\u001b[0m\u001b[37m\u001b[0m \u001b[1m34s\u001b[0m 5ms/step - accuracy: 0.6157 - loss: 0.6450 - val_accuracy: 0.6365 - val_loss: 0.6259\n",
      "Epoch 2/5\n",
      "\u001b[1m6215/6215\u001b[0m \u001b[32m━━━━━━━━━━━━━━━━━━━━\u001b[0m\u001b[37m\u001b[0m \u001b[1m35s\u001b[0m 6ms/step - accuracy: 0.6363 - loss: 0.6262 - val_accuracy: 0.6374 - val_loss: 0.6233\n",
      "Epoch 3/5\n",
      "\u001b[1m6215/6215\u001b[0m \u001b[32m━━━━━━━━━━━━━━━━━━━━\u001b[0m\u001b[37m\u001b[0m \u001b[1m35s\u001b[0m 6ms/step - accuracy: 0.6419 - loss: 0.6220 - val_accuracy: 0.6432 - val_loss: 0.6155\n",
      "Epoch 4/5\n",
      "\u001b[1m6215/6215\u001b[0m \u001b[32m━━━━━━━━━━━━━━━━━━━━\u001b[0m\u001b[37m\u001b[0m \u001b[1m34s\u001b[0m 6ms/step - accuracy: 0.6566 - loss: 0.6078 - val_accuracy: 0.6557 - val_loss: 0.6067\n",
      "Epoch 5/5\n",
      "\u001b[1m6215/6215\u001b[0m \u001b[32m━━━━━━━━━━━━━━━━━━━━\u001b[0m\u001b[37m\u001b[0m \u001b[1m33s\u001b[0m 5ms/step - accuracy: 0.6639 - loss: 0.5989 - val_accuracy: 0.6575 - val_loss: 0.6038\n"
     ]
    },
    {
     "data": {
      "text/html": [
       "<pre style=\"white-space:pre;overflow-x:auto;line-height:normal;font-family:Menlo,'DejaVu Sans Mono',consolas,'Courier New',monospace\"><span style=\"font-weight: bold\">Model: \"sequential\"</span>\n",
       "</pre>\n"
      ],
      "text/plain": [
       "\u001b[1mModel: \"sequential\"\u001b[0m\n"
      ]
     },
     "metadata": {},
     "output_type": "display_data"
    },
    {
     "data": {
      "text/html": [
       "<pre style=\"white-space:pre;overflow-x:auto;line-height:normal;font-family:Menlo,'DejaVu Sans Mono',consolas,'Courier New',monospace\">┏━━━━━━━━━━━━━━━━━━━━━━━━━━━━━━━━━┳━━━━━━━━━━━━━━━━━━━━━━━━┳━━━━━━━━━━━━━━━┓\n",
       "┃<span style=\"font-weight: bold\"> Layer (type)                    </span>┃<span style=\"font-weight: bold\"> Output Shape           </span>┃<span style=\"font-weight: bold\">       Param # </span>┃\n",
       "┡━━━━━━━━━━━━━━━━━━━━━━━━━━━━━━━━━╇━━━━━━━━━━━━━━━━━━━━━━━━╇━━━━━━━━━━━━━━━┩\n",
       "│ simple_rnn (<span style=\"color: #0087ff; text-decoration-color: #0087ff\">SimpleRNN</span>)          │ (<span style=\"color: #00d7ff; text-decoration-color: #00d7ff\">None</span>, <span style=\"color: #00af00; text-decoration-color: #00af00\">20</span>, <span style=\"color: #00af00; text-decoration-color: #00af00\">128</span>)        │        <span style=\"color: #00af00; text-decoration-color: #00af00\">29,312</span> │\n",
       "├─────────────────────────────────┼────────────────────────┼───────────────┤\n",
       "│ flatten (<span style=\"color: #0087ff; text-decoration-color: #0087ff\">Flatten</span>)               │ (<span style=\"color: #00d7ff; text-decoration-color: #00d7ff\">None</span>, <span style=\"color: #00af00; text-decoration-color: #00af00\">2560</span>)           │             <span style=\"color: #00af00; text-decoration-color: #00af00\">0</span> │\n",
       "├─────────────────────────────────┼────────────────────────┼───────────────┤\n",
       "│ dense (<span style=\"color: #0087ff; text-decoration-color: #0087ff\">Dense</span>)                   │ (<span style=\"color: #00d7ff; text-decoration-color: #00d7ff\">None</span>, <span style=\"color: #00af00; text-decoration-color: #00af00\">3</span>)              │         <span style=\"color: #00af00; text-decoration-color: #00af00\">7,683</span> │\n",
       "└─────────────────────────────────┴────────────────────────┴───────────────┘\n",
       "</pre>\n"
      ],
      "text/plain": [
       "┏━━━━━━━━━━━━━━━━━━━━━━━━━━━━━━━━━┳━━━━━━━━━━━━━━━━━━━━━━━━┳━━━━━━━━━━━━━━━┓\n",
       "┃\u001b[1m \u001b[0m\u001b[1mLayer (type)                   \u001b[0m\u001b[1m \u001b[0m┃\u001b[1m \u001b[0m\u001b[1mOutput Shape          \u001b[0m\u001b[1m \u001b[0m┃\u001b[1m \u001b[0m\u001b[1m      Param #\u001b[0m\u001b[1m \u001b[0m┃\n",
       "┡━━━━━━━━━━━━━━━━━━━━━━━━━━━━━━━━━╇━━━━━━━━━━━━━━━━━━━━━━━━╇━━━━━━━━━━━━━━━┩\n",
       "│ simple_rnn (\u001b[38;5;33mSimpleRNN\u001b[0m)          │ (\u001b[38;5;45mNone\u001b[0m, \u001b[38;5;34m20\u001b[0m, \u001b[38;5;34m128\u001b[0m)        │        \u001b[38;5;34m29,312\u001b[0m │\n",
       "├─────────────────────────────────┼────────────────────────┼───────────────┤\n",
       "│ flatten (\u001b[38;5;33mFlatten\u001b[0m)               │ (\u001b[38;5;45mNone\u001b[0m, \u001b[38;5;34m2560\u001b[0m)           │             \u001b[38;5;34m0\u001b[0m │\n",
       "├─────────────────────────────────┼────────────────────────┼───────────────┤\n",
       "│ dense (\u001b[38;5;33mDense\u001b[0m)                   │ (\u001b[38;5;45mNone\u001b[0m, \u001b[38;5;34m3\u001b[0m)              │         \u001b[38;5;34m7,683\u001b[0m │\n",
       "└─────────────────────────────────┴────────────────────────┴───────────────┘\n"
      ]
     },
     "metadata": {},
     "output_type": "display_data"
    },
    {
     "data": {
      "text/html": [
       "<pre style=\"white-space:pre;overflow-x:auto;line-height:normal;font-family:Menlo,'DejaVu Sans Mono',consolas,'Courier New',monospace\"><span style=\"font-weight: bold\"> Total params: </span><span style=\"color: #00af00; text-decoration-color: #00af00\">110,987</span> (433.55 KB)\n",
       "</pre>\n"
      ],
      "text/plain": [
       "\u001b[1m Total params: \u001b[0m\u001b[38;5;34m110,987\u001b[0m (433.55 KB)\n"
      ]
     },
     "metadata": {},
     "output_type": "display_data"
    },
    {
     "data": {
      "text/html": [
       "<pre style=\"white-space:pre;overflow-x:auto;line-height:normal;font-family:Menlo,'DejaVu Sans Mono',consolas,'Courier New',monospace\"><span style=\"font-weight: bold\"> Trainable params: </span><span style=\"color: #00af00; text-decoration-color: #00af00\">36,995</span> (144.51 KB)\n",
       "</pre>\n"
      ],
      "text/plain": [
       "\u001b[1m Trainable params: \u001b[0m\u001b[38;5;34m36,995\u001b[0m (144.51 KB)\n"
      ]
     },
     "metadata": {},
     "output_type": "display_data"
    },
    {
     "data": {
      "text/html": [
       "<pre style=\"white-space:pre;overflow-x:auto;line-height:normal;font-family:Menlo,'DejaVu Sans Mono',consolas,'Courier New',monospace\"><span style=\"font-weight: bold\"> Non-trainable params: </span><span style=\"color: #00af00; text-decoration-color: #00af00\">0</span> (0.00 B)\n",
       "</pre>\n"
      ],
      "text/plain": [
       "\u001b[1m Non-trainable params: \u001b[0m\u001b[38;5;34m0\u001b[0m (0.00 B)\n"
      ]
     },
     "metadata": {},
     "output_type": "display_data"
    },
    {
     "data": {
      "text/html": [
       "<pre style=\"white-space:pre;overflow-x:auto;line-height:normal;font-family:Menlo,'DejaVu Sans Mono',consolas,'Courier New',monospace\"><span style=\"font-weight: bold\"> Optimizer params: </span><span style=\"color: #00af00; text-decoration-color: #00af00\">73,992</span> (289.04 KB)\n",
       "</pre>\n"
      ],
      "text/plain": [
       "\u001b[1m Optimizer params: \u001b[0m\u001b[38;5;34m73,992\u001b[0m (289.04 KB)\n"
      ]
     },
     "metadata": {},
     "output_type": "display_data"
    }
   ],
   "source": [
    "# Simple RNN - NOTE THAT WE ARE NOT USING AN EMBEDDING LAYER HERE\n",
    "\n",
    "model = Sequential()\n",
    "model.add(SimpleRNN(128, input_shape=(X_train.shape[1],X_train.shape[2]), return_sequences=True))\n",
    "model.add(Flatten())\n",
    "model.add(Dense(3, activation='softmax'))\n",
    "\n",
    "model.compile(optimizer='adam', loss='categorical_crossentropy', metrics=['accuracy'])\n",
    "\n",
    "model.fit(X_train, y_train, epochs=5, batch_size=64, validation_data=(X_test, y_test))\n",
    "\n",
    "model.summary()"
   ]
  },
  {
   "cell_type": "code",
   "execution_count": 30,
   "metadata": {},
   "outputs": [
    {
     "name": "stdout",
     "output_type": "stream",
     "text": [
      "\u001b[1m3108/3108\u001b[0m \u001b[32m━━━━━━━━━━━━━━━━━━━━\u001b[0m\u001b[37m\u001b[0m \u001b[1m4s\u001b[0m 1ms/step\n",
      "              precision    recall  f1-score   support\n",
      "\n",
      "           0       0.64      0.72      0.68     49666\n",
      "           1       0.68      0.59      0.63     49765\n",
      "\n",
      "    accuracy                           0.66     99431\n",
      "   macro avg       0.66      0.66      0.66     99431\n",
      "weighted avg       0.66      0.66      0.66     99431\n",
      "\n"
     ]
    }
   ],
   "source": [
    "# Metrics\n",
    "from sklearn.metrics import classification_report, confusion_matrix\n",
    "\n",
    "y_pred = model.predict(X_test)\n",
    "\n",
    "y_pred = np.argmax(y_pred, axis=1)\n",
    "\n",
    "y_test = np.argmax(y_test, axis=1)\n",
    "\n",
    "print(classification_report(y_test, y_pred))"
   ]
  },
  {
   "cell_type": "code",
   "execution_count": 32,
   "metadata": {},
   "outputs": [
    {
     "name": "stdout",
     "output_type": "stream",
     "text": [
      "\u001b[1m1/1\u001b[0m \u001b[32m━━━━━━━━━━━━━━━━━━━━\u001b[0m\u001b[37m\u001b[0m \u001b[1m0s\u001b[0m 12ms/step\n"
     ]
    },
    {
     "data": {
      "text/plain": [
       "array([[3.6847892e-01, 6.3152087e-01, 1.6416880e-07]], dtype=float32)"
      ]
     },
     "execution_count": 32,
     "metadata": {},
     "output_type": "execute_result"
    }
   ],
   "source": [
    "# Input Sentiment\n",
    "input = \"What is not to like about this product\"\n",
    "\n",
    "# Clean the input\n",
    "input = re.sub('[^a-zA-Z]', ' ', input)\n",
    "input = input.lower()\n",
    "\n",
    "# Tokenize the input\n",
    "input = word_tokenize(input)\n",
    "\n",
    "# Create embeddings for the input\n",
    "input_embedding = []\n",
    "for word in input:\n",
    "    if word in model_sg.wv:\n",
    "        input_embedding.append(model_sg.wv[word])\n",
    "\n",
    "# Pad the input\n",
    "input_pad = pad_sequences([input_embedding], maxlen=max_length, padding='post')\n",
    "\n",
    "# Predict\n",
    "output = model.predict(input_pad)\n",
    "\n",
    "output"
   ]
  }
 ],
 "metadata": {
  "kernelspec": {
   "display_name": ".venv",
   "language": "python",
   "name": "python3"
  },
  "language_info": {
   "codemirror_mode": {
    "name": "ipython",
    "version": 3
   },
   "file_extension": ".py",
   "mimetype": "text/x-python",
   "name": "python",
   "nbconvert_exporter": "python",
   "pygments_lexer": "ipython3",
   "version": "3.12.2"
  }
 },
 "nbformat": 4,
 "nbformat_minor": 2
}
