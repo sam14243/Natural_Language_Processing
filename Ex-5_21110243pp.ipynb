{
 "cells": [
  {
   "cell_type": "code",
   "execution_count": 2,
   "id": "b9129c4f-ddee-4bb9-b673-c6ece5fc181c",
   "metadata": {},
   "outputs": [],
   "source": [
    "import pandas as pd\n",
    "import numpy as np\n",
    "import matplotlib.pyplot as plt\n",
    "import os"
   ]
  },
  {
   "cell_type": "code",
   "execution_count": 3,
   "id": "51cc035c-bea8-4ff4-9901-a3d315d353da",
   "metadata": {},
   "outputs": [],
   "source": [
    "files = os.listdir('SemEval2017/docsutf8')\n",
    "\n",
    "docs = []\n",
    "keys = []\n",
    "file_path = 'SemEval2017/docsutf8/'\n",
    "key_path = 'SemEval2017/keys/'\n",
    "\n",
    "for file in files:\n",
    "    key = file.split('.')[0] + '.key'\n",
    "    with open(file_path + file, encoding=\"utf8\") as f:\n",
    "        doc = f.read()\n",
    "        docs.append(doc)\n",
    "    with open(key_path + key, encoding=\"utf8\") as f:\n",
    "        key = f.readlines()\n",
    "        key = [txt[:-1] for txt in key]\n",
    "        key = \", \".join(key)\n",
    "        keys.append(key)"
   ]
  },
  {
   "cell_type": "code",
   "execution_count": null,
   "id": "f5917b40-dfce-4044-a87c-f2a91b492f05",
   "metadata": {},
   "outputs": [],
   "source": [
    "keys"
   ]
  },
  {
   "cell_type": "code",
   "execution_count": 5,
   "id": "06027ed8-21de-43ed-954f-4d900eef9c7b",
   "metadata": {},
   "outputs": [
    {
     "data": {
      "text/html": [
       "<div>\n",
       "<style scoped>\n",
       "    .dataframe tbody tr th:only-of-type {\n",
       "        vertical-align: middle;\n",
       "    }\n",
       "\n",
       "    .dataframe tbody tr th {\n",
       "        vertical-align: top;\n",
       "    }\n",
       "\n",
       "    .dataframe thead th {\n",
       "        text-align: right;\n",
       "    }\n",
       "</style>\n",
       "<table border=\"1\" class=\"dataframe\">\n",
       "  <thead>\n",
       "    <tr style=\"text-align: right;\">\n",
       "      <th></th>\n",
       "      <th>Text</th>\n",
       "      <th>Keyword</th>\n",
       "    </tr>\n",
       "  </thead>\n",
       "  <tbody>\n",
       "    <tr>\n",
       "      <th>0</th>\n",
       "      <td>Complex Langevin (CL) dynamics  [1,2] provides...</td>\n",
       "      <td>CL, complexified configuration space, Complex ...</td>\n",
       "    </tr>\n",
       "    <tr>\n",
       "      <th>1</th>\n",
       "      <td>Nuclear theory devoted major efforts since 4 d...</td>\n",
       "      <td>C60, combining quantum features, field of clus...</td>\n",
       "    </tr>\n",
       "    <tr>\n",
       "      <th>2</th>\n",
       "      <td>The next important step might be the derivatio...</td>\n",
       "      <td>continuum space-time, Dirac equation, future r...</td>\n",
       "    </tr>\n",
       "    <tr>\n",
       "      <th>3</th>\n",
       "      <td>This work shows how our approach based on the ...</td>\n",
       "      <td>class virial expansions, field partition funct...</td>\n",
       "    </tr>\n",
       "    <tr>\n",
       "      <th>4</th>\n",
       "      <td>A fluctuating vacuum is a general feature of q...</td>\n",
       "      <td>a collection of fermionic fields describing co...</td>\n",
       "    </tr>\n",
       "  </tbody>\n",
       "</table>\n",
       "</div>"
      ],
      "text/plain": [
       "                                                Text  \\\n",
       "0  Complex Langevin (CL) dynamics  [1,2] provides...   \n",
       "1  Nuclear theory devoted major efforts since 4 d...   \n",
       "2  The next important step might be the derivatio...   \n",
       "3  This work shows how our approach based on the ...   \n",
       "4  A fluctuating vacuum is a general feature of q...   \n",
       "\n",
       "                                             Keyword  \n",
       "0  CL, complexified configuration space, Complex ...  \n",
       "1  C60, combining quantum features, field of clus...  \n",
       "2  continuum space-time, Dirac equation, future r...  \n",
       "3  class virial expansions, field partition funct...  \n",
       "4  a collection of fermionic fields describing co...  "
      ]
     },
     "execution_count": 5,
     "metadata": {},
     "output_type": "execute_result"
    }
   ],
   "source": [
    "df = pd.DataFrame({\"Text\" : docs, \"Keyword\" : keys})\n",
    "df.head()"
   ]
  },
  {
   "cell_type": "code",
   "execution_count": 15,
   "id": "b4a75037-640d-4c03-beff-f0af3700ae24",
   "metadata": {},
   "outputs": [
    {
     "data": {
      "text/plain": [
       "'CL, complexified configuration space, Complex Langevin, distribution, improved understanding, relying on the combination of analytical and numerical insight, Langevin process, lower and four-dimensional field theories, nonabelian gauge theories, nonzero chemical potential, numerical simulations of lattice field theories, probability distribution, sign problem, sign problem in the thermodynamic limit, SL(N,C) gauge cooling'"
      ]
     },
     "execution_count": 15,
     "metadata": {},
     "output_type": "execute_result"
    }
   ],
   "source": [
    "df['Keyword'][0]"
   ]
  },
  {
   "cell_type": "code",
   "execution_count": 10,
   "id": "127dc0d2-adf9-4f55-ace1-021624ba787d",
   "metadata": {},
   "outputs": [],
   "source": [
    "from rake_nltk import Rake\n",
    "\n",
    "r = Rake()"
   ]
  },
  {
   "cell_type": "code",
   "execution_count": null,
   "id": "4f5868de-fc2b-487a-a7c5-479219aec6f6",
   "metadata": {},
   "outputs": [],
   "source": []
  },
  {
   "cell_type": "code",
   "execution_count": 13,
   "id": "60178181-05c4-48ea-a169-6fe15e215c95",
   "metadata": {},
   "outputs": [
    {
     "data": {
      "text/plain": [
       "493"
      ]
     },
     "execution_count": 13,
     "metadata": {},
     "output_type": "execute_result"
    }
   ],
   "source": [
    "len(df)"
   ]
  },
  {
   "cell_type": "code",
   "execution_count": 18,
   "id": "ac094a59-3444-4e7f-910d-aa12af8fe251",
   "metadata": {},
   "outputs": [],
   "source": [
    "predicted_keyword = []\n",
    "for i in range(len(df)):\n",
    "    r.extract_keywords_from_text(df['Text'][0])\n",
    "    predicted_keyword.append(r.get_ranked_phrases()[:20])"
   ]
  },
  {
   "cell_type": "code",
   "execution_count": 20,
   "id": "080a0087-8a49-4ca7-892d-59d136d4a367",
   "metadata": {},
   "outputs": [],
   "source": [
    "df['Predicted_Keyword'] = predicted_keyword"
   ]
  },
  {
   "cell_type": "code",
   "execution_count": 21,
   "id": "c8565fc3-c49e-4847-add4-7ddb90fcb927",
   "metadata": {},
   "outputs": [
    {
     "data": {
      "text/html": [
       "<div>\n",
       "<style scoped>\n",
       "    .dataframe tbody tr th:only-of-type {\n",
       "        vertical-align: middle;\n",
       "    }\n",
       "\n",
       "    .dataframe tbody tr th {\n",
       "        vertical-align: top;\n",
       "    }\n",
       "\n",
       "    .dataframe thead th {\n",
       "        text-align: right;\n",
       "    }\n",
       "</style>\n",
       "<table border=\"1\" class=\"dataframe\">\n",
       "  <thead>\n",
       "    <tr style=\"text-align: right;\">\n",
       "      <th></th>\n",
       "      <th>Text</th>\n",
       "      <th>Keyword</th>\n",
       "      <th>Predicted_Keyword</th>\n",
       "    </tr>\n",
       "  </thead>\n",
       "  <tbody>\n",
       "    <tr>\n",
       "      <th>0</th>\n",
       "      <td>Complex Langevin (CL) dynamics  [1,2] provides...</td>\n",
       "      <td>CL, complexified configuration space, Complex ...</td>\n",
       "      <td>[11 – 16 ]., recently also led, nonzero chemic...</td>\n",
       "    </tr>\n",
       "    <tr>\n",
       "      <th>1</th>\n",
       "      <td>Nuclear theory devoted major efforts since 4 d...</td>\n",
       "      <td>C60, combining quantum features, field of clus...</td>\n",
       "      <td>[11 – 16 ]., recently also led, nonzero chemic...</td>\n",
       "    </tr>\n",
       "    <tr>\n",
       "      <th>2</th>\n",
       "      <td>The next important step might be the derivatio...</td>\n",
       "      <td>continuum space-time, Dirac equation, future r...</td>\n",
       "      <td>[11 – 16 ]., recently also led, nonzero chemic...</td>\n",
       "    </tr>\n",
       "    <tr>\n",
       "      <th>3</th>\n",
       "      <td>This work shows how our approach based on the ...</td>\n",
       "      <td>class virial expansions, field partition funct...</td>\n",
       "      <td>[11 – 16 ]., recently also led, nonzero chemic...</td>\n",
       "    </tr>\n",
       "    <tr>\n",
       "      <th>4</th>\n",
       "      <td>A fluctuating vacuum is a general feature of q...</td>\n",
       "      <td>a collection of fermionic fields describing co...</td>\n",
       "      <td>[11 – 16 ]., recently also led, nonzero chemic...</td>\n",
       "    </tr>\n",
       "    <tr>\n",
       "      <th>...</th>\n",
       "      <td>...</td>\n",
       "      <td>...</td>\n",
       "      <td>...</td>\n",
       "    </tr>\n",
       "    <tr>\n",
       "      <th>488</th>\n",
       "      <td>MicroCT has been applied to AM parts in variou...</td>\n",
       "      <td>AM parts, average porosity, build direction, c...</td>\n",
       "      <td>[11 – 16 ]., recently also led, nonzero chemic...</td>\n",
       "    </tr>\n",
       "    <tr>\n",
       "      <th>489</th>\n",
       "      <td>Aeroengine turbine disks often consist of para...</td>\n",
       "      <td>Aeroengine turbine disks, decrease the mechani...</td>\n",
       "      <td>[11 – 16 ]., recently also led, nonzero chemic...</td>\n",
       "    </tr>\n",
       "    <tr>\n",
       "      <th>490</th>\n",
       "      <td>Although the presented model is developed and ...</td>\n",
       "      <td>a-C:H layers, beryllium co-deposits, carbon, c...</td>\n",
       "      <td>[11 – 16 ]., recently also led, nonzero chemic...</td>\n",
       "    </tr>\n",
       "    <tr>\n",
       "      <th>491</th>\n",
       "      <td>Power and particle exhaust are crucial for the...</td>\n",
       "      <td>D-T reactor, fusion power plant, fusion reacto...</td>\n",
       "      <td>[11 – 16 ]., recently also led, nonzero chemic...</td>\n",
       "    </tr>\n",
       "    <tr>\n",
       "      <th>492</th>\n",
       "      <td>The main drawback of thermo-oxidation in most ...</td>\n",
       "      <td>carbon, carbon elements, carbon layers, carbon...</td>\n",
       "      <td>[11 – 16 ]., recently also led, nonzero chemic...</td>\n",
       "    </tr>\n",
       "  </tbody>\n",
       "</table>\n",
       "<p>493 rows × 3 columns</p>\n",
       "</div>"
      ],
      "text/plain": [
       "                                                  Text  \\\n",
       "0    Complex Langevin (CL) dynamics  [1,2] provides...   \n",
       "1    Nuclear theory devoted major efforts since 4 d...   \n",
       "2    The next important step might be the derivatio...   \n",
       "3    This work shows how our approach based on the ...   \n",
       "4    A fluctuating vacuum is a general feature of q...   \n",
       "..                                                 ...   \n",
       "488  MicroCT has been applied to AM parts in variou...   \n",
       "489  Aeroengine turbine disks often consist of para...   \n",
       "490  Although the presented model is developed and ...   \n",
       "491  Power and particle exhaust are crucial for the...   \n",
       "492  The main drawback of thermo-oxidation in most ...   \n",
       "\n",
       "                                               Keyword  \\\n",
       "0    CL, complexified configuration space, Complex ...   \n",
       "1    C60, combining quantum features, field of clus...   \n",
       "2    continuum space-time, Dirac equation, future r...   \n",
       "3    class virial expansions, field partition funct...   \n",
       "4    a collection of fermionic fields describing co...   \n",
       "..                                                 ...   \n",
       "488  AM parts, average porosity, build direction, c...   \n",
       "489  Aeroengine turbine disks, decrease the mechani...   \n",
       "490  a-C:H layers, beryllium co-deposits, carbon, c...   \n",
       "491  D-T reactor, fusion power plant, fusion reacto...   \n",
       "492  carbon, carbon elements, carbon layers, carbon...   \n",
       "\n",
       "                                     Predicted_Keyword  \n",
       "0    [11 – 16 ]., recently also led, nonzero chemic...  \n",
       "1    [11 – 16 ]., recently also led, nonzero chemic...  \n",
       "2    [11 – 16 ]., recently also led, nonzero chemic...  \n",
       "3    [11 – 16 ]., recently also led, nonzero chemic...  \n",
       "4    [11 – 16 ]., recently also led, nonzero chemic...  \n",
       "..                                                 ...  \n",
       "488  [11 – 16 ]., recently also led, nonzero chemic...  \n",
       "489  [11 – 16 ]., recently also led, nonzero chemic...  \n",
       "490  [11 – 16 ]., recently also led, nonzero chemic...  \n",
       "491  [11 – 16 ]., recently also led, nonzero chemic...  \n",
       "492  [11 – 16 ]., recently also led, nonzero chemic...  \n",
       "\n",
       "[493 rows x 3 columns]"
      ]
     },
     "execution_count": 21,
     "metadata": {},
     "output_type": "execute_result"
    }
   ],
   "source": [
    "df"
   ]
  },
  {
   "cell_type": "code",
   "execution_count": null,
   "id": "40aa799f-29b2-4da1-9510-6800c040a499",
   "metadata": {},
   "outputs": [],
   "source": []
  }
 ],
 "metadata": {
  "kernelspec": {
   "display_name": "Python 3 (ipykernel)",
   "language": "python",
   "name": "python3"
  },
  "language_info": {
   "codemirror_mode": {
    "name": "ipython",
    "version": 3
   },
   "file_extension": ".py",
   "mimetype": "text/x-python",
   "name": "python",
   "nbconvert_exporter": "python",
   "pygments_lexer": "ipython3",
   "version": "3.9.18"
  }
 },
 "nbformat": 4,
 "nbformat_minor": 5
}
