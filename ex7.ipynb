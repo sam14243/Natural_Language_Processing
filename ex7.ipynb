{
 "cells": [
  {
   "cell_type": "code",
   "execution_count": 2,
   "metadata": {},
   "outputs": [
    {
     "name": "stderr",
     "output_type": "stream",
     "text": [
      "/Users/achintya/Library/Python/3.9/lib/python/site-packages/urllib3/__init__.py:34: NotOpenSSLWarning: urllib3 v2 only supports OpenSSL 1.1.1+, currently the 'ssl' module is compiled with 'LibreSSL 2.8.3'. See: https://github.com/urllib3/urllib3/issues/3020\n",
      "  warnings.warn(\n"
     ]
    },
    {
     "name": "stdout",
     "output_type": "stream",
     "text": [
      "Downloading rl-sentence-compression.zip to ./rl-sentence-compression\n"
     ]
    },
    {
     "name": "stderr",
     "output_type": "stream",
     "text": [
      "100%|██████████| 423M/423M [00:41<00:00, 10.7MB/s] \n"
     ]
    },
    {
     "name": "stdout",
     "output_type": "stream",
     "text": [
      "\n"
     ]
    }
   ],
   "source": [
    "import opendatasets as od\n",
    "od.download('https://www.kaggle.com/datasets/tongtrantiendung/rl-sentence-compression', force=True)"
   ]
  },
  {
   "cell_type": "code",
   "execution_count": 6,
   "metadata": {},
   "outputs": [],
   "source": [
    "import pandas as pd\n",
    "\n",
    "data = pd.read_json('rl-sentence-compression/rl-sentence-compression/rl-sentence-compression/data/train-data/gigaword/train.jsonl', lines=True)"
   ]
  },
  {
   "cell_type": "code",
   "execution_count": 7,
   "metadata": {},
   "outputs": [],
   "source": [
    "data = data[:1000]"
   ]
  },
  {
   "cell_type": "code",
   "execution_count": 8,
   "metadata": {},
   "outputs": [],
   "source": [
    "data = data.drop_duplicates()\n",
    "\n",
    "data = data.dropna()\n",
    "\n",
    "data['text'] = data['text'].str.lower()\n",
    "\n",
    "data['text'] = data['text'].str.replace('[^\\w\\s]', '')\n",
    "\n",
    "data['text'] = data['text'].str.split()\n",
    "\n",
    "stop_words = ['the', 'a', 'an', 'and', 'or', 'in', 'on', 'at', 'to']\n",
    "data['text'] = data['text'].apply(lambda x: [word for word in x if word not in stop_words])\n",
    "\n",
    "from nltk.stem import WordNetLemmatizer\n",
    "lemmatizer = WordNetLemmatizer()\n",
    "data['text'] = data['text'].apply(lambda x: [lemmatizer.lemmatize(word) for word in x])\n",
    "\n",
    "data['text'] = data['text'].apply(lambda x: [word for word in x if not word.isdigit()])\n",
    "\n",
    "data['text'] = data['text'].apply(lambda x: ' '.join(x))\n",
    "\n",
    "data = data.reset_index(drop=True)\n"
   ]
  },
  {
   "cell_type": "code",
   "execution_count": 18,
   "metadata": {},
   "outputs": [
    {
     "name": "stderr",
     "output_type": "stream",
     "text": [
      "WARNING:absl:At this time, the v2.11+ optimizer `tf.keras.optimizers.Adam` runs slowly on M1/M2 Macs, please use the legacy Keras optimizer instead, located at `tf.keras.optimizers.legacy.Adam`.\n"
     ]
    },
    {
     "name": "stdout",
     "output_type": "stream",
     "text": [
      "Epoch 1/10\n",
      "7/7 [==============================] - 5s 633ms/step - loss: 8.6874 - accuracy: 0.6197 - val_loss: 7.6686 - val_accuracy: 0.9219\n",
      "Epoch 2/10\n",
      "7/7 [==============================] - 5s 705ms/step - loss: 7.0138 - accuracy: 0.9236 - val_loss: 5.9451 - val_accuracy: 0.9219\n",
      "Epoch 3/10\n",
      "7/7 [==============================] - 5s 740ms/step - loss: 5.2769 - accuracy: 0.9236 - val_loss: 4.2016 - val_accuracy: 0.9219\n",
      "Epoch 4/10\n",
      "7/7 [==============================] - 4s 595ms/step - loss: 3.5486 - accuracy: 0.9236 - val_loss: 2.5506 - val_accuracy: 0.9219\n",
      "Epoch 5/10\n",
      "7/7 [==============================] - 4s 634ms/step - loss: 2.0238 - accuracy: 0.9236 - val_loss: 1.3704 - val_accuracy: 0.9219\n",
      "Epoch 6/10\n",
      "7/7 [==============================] - 5s 664ms/step - loss: 1.1371 - accuracy: 0.9236 - val_loss: 0.9440 - val_accuracy: 0.9219\n",
      "Epoch 7/10\n",
      "7/7 [==============================] - 4s 578ms/step - loss: 0.8728 - accuracy: 0.9236 - val_loss: 0.8544 - val_accuracy: 0.9219\n",
      "Epoch 8/10\n",
      "7/7 [==============================] - 4s 584ms/step - loss: 0.8132 - accuracy: 0.9236 - val_loss: 0.8293 - val_accuracy: 0.9219\n",
      "Epoch 9/10\n",
      "7/7 [==============================] - 4s 580ms/step - loss: 0.7889 - accuracy: 0.9236 - val_loss: 0.8144 - val_accuracy: 0.9219\n",
      "Epoch 10/10\n",
      "7/7 [==============================] - 6s 868ms/step - loss: 0.8232 - accuracy: 0.9212 - val_loss: 0.8047 - val_accuracy: 0.9219\n"
     ]
    },
    {
     "data": {
      "text/plain": [
       "<keras.src.callbacks.History at 0x3175ad880>"
      ]
     },
     "execution_count": 18,
     "metadata": {},
     "output_type": "execute_result"
    }
   ],
   "source": [
    "import tensorflow as tf\n",
    "from tensorflow.keras.layers import TextVectorization\n",
    "from tensorflow.keras.models import Sequential\n",
    "from tensorflow.keras.layers import Embedding, SimpleRNN, LSTM, GRU, Dense\n",
    "from tensorflow.keras.optimizers import Adam\n",
    "\n",
    "from sklearn.model_selection import train_test_split\n",
    "import numpy as np\n",
    "X_train, X_val, y_train, y_val = train_test_split(data['text'], data['summary'], test_size=0.2, random_state=42)\n",
    "\n",
    "max_vocab = 10000\n",
    "max_len = 100\n",
    "vectorizer = TextVectorization(max_tokens=max_vocab, output_sequence_length=max_len)\n",
    "vectorizer.adapt(X_train.values)\n",
    "\n",
    "X_train_seq = vectorizer(X_train.values)\n",
    "X_val_seq = vectorizer(X_val.values)\n",
    "\n",
    "vectorizer = TextVectorization(max_tokens=max_vocab, output_sequence_length=max_len)\n",
    "vectorizer.adapt(y_train.values)\n",
    "\n",
    "y_train_seq = vectorizer(y_train.values)\n",
    "y_val_seq = vectorizer(y_val.values)\n",
    "\n",
    "model = Sequential()\n",
    "model.add(Embedding(max_vocab, 128))\n",
    "model.add(SimpleRNN(128, return_sequences=True))\n",
    "model.add(SimpleRNN(128, return_sequences=True))\n",
    "model.add(Dense(max_vocab, activation='softmax'))\n",
    "\n",
    "model.compile(loss='sparse_categorical_crossentropy', optimizer=Adam(learning_rate=0.001), metrics=['accuracy'])\n",
    "\n",
    "model.fit(X_train_seq, y_train_seq, validation_data=(X_val_seq, y_val_seq), epochs=10, batch_size=128)"
   ]
  },
  {
   "cell_type": "code",
   "execution_count": 24,
   "metadata": {},
   "outputs": [
    {
     "name": "stderr",
     "output_type": "stream",
     "text": [
      "WARNING:absl:At this time, the v2.11+ optimizer `tf.keras.optimizers.Adam` runs slowly on M1/M2 Macs, please use the legacy Keras optimizer instead, located at `tf.keras.optimizers.legacy.Adam`.\n"
     ]
    },
    {
     "name": "stdout",
     "output_type": "stream",
     "text": [
      "Epoch 1/10\n",
      "7/7 [==============================] - 8s 1s/step - loss: 9.1570 - accuracy: 0.7731 - val_loss: 8.7865 - val_accuracy: 0.9219\n",
      "Epoch 2/10\n",
      "7/7 [==============================] - 7s 1s/step - loss: 8.0726 - accuracy: 0.9236 - val_loss: 6.7906 - val_accuracy: 0.9219\n",
      "Epoch 3/10\n",
      "7/7 [==============================] - 6s 858ms/step - loss: 5.9113 - accuracy: 0.9236 - val_loss: 4.4795 - val_accuracy: 0.9219\n",
      "Epoch 4/10\n",
      "7/7 [==============================] - 6s 904ms/step - loss: 3.6818 - accuracy: 0.9236 - val_loss: 2.4988 - val_accuracy: 0.9219\n",
      "Epoch 5/10\n",
      "7/7 [==============================] - 6s 903ms/step - loss: 1.9223 - accuracy: 0.9236 - val_loss: 1.2407 - val_accuracy: 0.9219\n",
      "Epoch 6/10\n",
      "7/7 [==============================] - 7s 1s/step - loss: 1.0312 - accuracy: 0.9236 - val_loss: 0.8748 - val_accuracy: 0.9219\n",
      "Epoch 7/10\n",
      "7/7 [==============================] - 5s 742ms/step - loss: 0.8158 - accuracy: 0.9236 - val_loss: 0.8088 - val_accuracy: 0.9219\n",
      "Epoch 8/10\n",
      "7/7 [==============================] - 6s 968ms/step - loss: 0.7705 - accuracy: 0.9236 - val_loss: 0.7909 - val_accuracy: 0.9219\n",
      "Epoch 9/10\n",
      "7/7 [==============================] - 6s 744ms/step - loss: 0.7528 - accuracy: 0.9236 - val_loss: 0.7815 - val_accuracy: 0.9219\n",
      "Epoch 10/10\n",
      "7/7 [==============================] - 5s 768ms/step - loss: 0.7410 - accuracy: 0.9236 - val_loss: 0.7739 - val_accuracy: 0.9219\n"
     ]
    },
    {
     "data": {
      "text/plain": [
       "<keras.src.callbacks.History at 0x1096a3b20>"
      ]
     },
     "execution_count": 24,
     "metadata": {},
     "output_type": "execute_result"
    }
   ],
   "source": [
    "model_lstm = Sequential()\n",
    "model_lstm.add(Embedding(max_vocab, 128))\n",
    "model_lstm.add(LSTM(128, return_sequences=True))\n",
    "model_lstm.add(LSTM(128, return_sequences=True))\n",
    "model_lstm.add(Dense(max_vocab, activation='softmax'))\n",
    "\n",
    "model_lstm.compile(loss='sparse_categorical_crossentropy', optimizer=Adam(learning_rate=0.001), metrics=['accuracy'])\n",
    "\n",
    "model_lstm.fit(X_train_seq, y_train_seq, validation_data=(X_val_seq, y_val_seq), epochs=10, batch_size=128)"
   ]
  },
  {
   "cell_type": "code",
   "execution_count": 25,
   "metadata": {},
   "outputs": [
    {
     "name": "stderr",
     "output_type": "stream",
     "text": [
      "WARNING:absl:At this time, the v2.11+ optimizer `tf.keras.optimizers.Adam` runs slowly on M1/M2 Macs, please use the legacy Keras optimizer instead, located at `tf.keras.optimizers.legacy.Adam`.\n"
     ]
    },
    {
     "name": "stdout",
     "output_type": "stream",
     "text": [
      "Epoch 1/10\n",
      "7/7 [==============================] - 7s 832ms/step - loss: 9.1593 - accuracy: 0.7725 - val_loss: 8.9605 - val_accuracy: 0.9219\n",
      "Epoch 2/10\n",
      "7/7 [==============================] - 5s 738ms/step - loss: 8.3788 - accuracy: 0.9236 - val_loss: 6.5457 - val_accuracy: 0.9219\n",
      "Epoch 3/10\n",
      "7/7 [==============================] - 5s 756ms/step - loss: 5.4208 - accuracy: 0.9236 - val_loss: 4.0450 - val_accuracy: 0.9219\n",
      "Epoch 4/10\n",
      "7/7 [==============================] - 5s 701ms/step - loss: 3.3440 - accuracy: 0.9236 - val_loss: 2.2781 - val_accuracy: 0.9219\n",
      "Epoch 5/10\n",
      "7/7 [==============================] - 5s 694ms/step - loss: 1.7583 - accuracy: 0.9236 - val_loss: 1.1686 - val_accuracy: 0.9219\n",
      "Epoch 6/10\n",
      "7/7 [==============================] - 5s 753ms/step - loss: 0.9934 - accuracy: 0.9236 - val_loss: 0.8750 - val_accuracy: 0.9219\n",
      "Epoch 7/10\n",
      "7/7 [==============================] - 6s 874ms/step - loss: 0.8215 - accuracy: 0.9236 - val_loss: 0.8231 - val_accuracy: 0.9219\n",
      "Epoch 8/10\n",
      "7/7 [==============================] - 6s 910ms/step - loss: 0.7822 - accuracy: 0.9236 - val_loss: 0.8005 - val_accuracy: 0.9219\n",
      "Epoch 9/10\n",
      "7/7 [==============================] - 6s 795ms/step - loss: 0.7538 - accuracy: 0.9236 - val_loss: 0.7705 - val_accuracy: 0.9219\n",
      "Epoch 10/10\n",
      "7/7 [==============================] - 5s 666ms/step - loss: 0.7205 - accuracy: 0.9236 - val_loss: 0.7373 - val_accuracy: 0.9219\n"
     ]
    },
    {
     "data": {
      "text/plain": [
       "<keras.src.callbacks.History at 0x10b7553a0>"
      ]
     },
     "execution_count": 25,
     "metadata": {},
     "output_type": "execute_result"
    }
   ],
   "source": [
    "model_gru = Sequential()\n",
    "model_gru.add(Embedding(max_vocab, 128))\n",
    "model_gru.add(GRU(128, return_sequences=True))\n",
    "model_gru.add(GRU(128, return_sequences=True))\n",
    "model_gru.add(Dense(max_vocab, activation='softmax'))\n",
    "\n",
    "model_gru.compile(loss='sparse_categorical_crossentropy', optimizer=Adam(learning_rate=0.001), metrics=['accuracy'])\n",
    "\n",
    "model_gru.fit(X_train_seq, y_train_seq, validation_data=(X_val_seq, y_val_seq), epochs=10, batch_size=128)"
   ]
  }
 ],
 "metadata": {
  "kernelspec": {
   "display_name": "Python 3",
   "language": "python",
   "name": "python3"
  },
  "language_info": {
   "codemirror_mode": {
    "name": "ipython",
    "version": 3
   },
   "file_extension": ".py",
   "mimetype": "text/x-python",
   "name": "python",
   "nbconvert_exporter": "python",
   "pygments_lexer": "ipython3",
   "version": "3.9.6"
  }
 },
 "nbformat": 4,
 "nbformat_minor": 2
}
