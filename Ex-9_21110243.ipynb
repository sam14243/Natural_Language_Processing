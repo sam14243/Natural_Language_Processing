{
 "cells": [
  {
   "cell_type": "code",
   "execution_count": 36,
   "metadata": {},
   "outputs": [],
   "source": [
    "import pandas as pd\n",
    "from keras.preprocessing.text import Tokenizer\n",
    "from sklearn.feature_extraction.text import CountVectorizer\n",
    "import numpy as np\n",
    "\n",
    "from keras.models import Sequential\n",
    "from keras.layers import Bidirectional, Embedding, LSTM, Dense, RepeatVector"
   ]
  },
  {
   "cell_type": "code",
   "execution_count": 37,
   "metadata": {},
   "outputs": [],
   "source": [
    "with open(\"Tamil-English-Dataset/Dataset/data.en1\") as f:\n",
    "    data_en = f.readlines()\n",
    "    data_en = data_en[:1000]\n",
    "\n",
    "with open(\"Tamil-English-Dataset/Dataset/data.ta1\") as f:\n",
    "    data_t = f.readlines()\n",
    "    data_t = data_t[:1000]\n"
   ]
  },
  {
   "cell_type": "code",
   "execution_count": null,
   "metadata": {},
   "outputs": [],
   "source": [
    "data_t"
   ]
  },
  {
   "cell_type": "code",
   "execution_count": 39,
   "metadata": {},
   "outputs": [],
   "source": [
    "with open('data_t.txt', 'w', encoding='utf-8') as f:\n",
    "    f.writelines(data_t)"
   ]
  },
  {
   "cell_type": "code",
   "execution_count": 40,
   "metadata": {},
   "outputs": [],
   "source": [
    "with open('data_en.txt', 'w', encoding='utf-8') as f:\n",
    "    f.writelines(data_en)"
   ]
  },
  {
   "cell_type": "code",
   "execution_count": 41,
   "metadata": {},
   "outputs": [],
   "source": [
    "import fasttext\n",
    "model_t = fasttext.train_unsupervised('data_t.txt', model='skipgram')"
   ]
  },
  {
   "cell_type": "code",
   "execution_count": 42,
   "metadata": {},
   "outputs": [],
   "source": [
    "word_vector_dict = {}\n",
    "for word, vector in zip(word_index, word_vectors):\n",
    "    word_vector_dict[word] = vector"
   ]
  },
  {
   "cell_type": "code",
   "execution_count": 43,
   "metadata": {},
   "outputs": [
    {
     "name": "stdout",
     "output_type": "stream",
     "text": [
      "2000375\n"
     ]
    }
   ],
   "source": [
    "word_vectors = model_t.get_input_matrix()\n",
    "print(len(word_vectors))"
   ]
  },
  {
   "cell_type": "code",
   "execution_count": 44,
   "metadata": {},
   "outputs": [
    {
     "name": "stdout",
     "output_type": "stream",
     "text": [
      "375\n"
     ]
    }
   ],
   "source": [
    "word_index = model_t.get_words()\n",
    "print(len(word_index))"
   ]
  },
  {
   "cell_type": "code",
   "execution_count": 47,
   "metadata": {},
   "outputs": [],
   "source": [
    "model_en = fasttext.train_unsupervised('data_en.txt', model='skipgram')"
   ]
  },
  {
   "cell_type": "code",
   "execution_count": 48,
   "metadata": {},
   "outputs": [
    {
     "name": "stdout",
     "output_type": "stream",
     "text": [
      "2000576\n"
     ]
    }
   ],
   "source": [
    "word_vectors = model_en.get_input_matrix()\n",
    "print(len(word_vectors))"
   ]
  },
  {
   "cell_type": "code",
   "execution_count": 49,
   "metadata": {},
   "outputs": [
    {
     "name": "stdout",
     "output_type": "stream",
     "text": [
      "576\n"
     ]
    }
   ],
   "source": [
    "word_index = model_en.get_words()\n",
    "print(len(word_index))"
   ]
  },
  {
   "cell_type": "code",
   "execution_count": 50,
   "metadata": {},
   "outputs": [],
   "source": [
    "def pad_sequences(data, maxlen):\n",
    "    data = list(map(lambda x: x + ['<PAD>'] * (maxlen - len(x)), data))\n",
    "    return data\n",
    "\n",
    "data_t_split = list(map(lambda x: x.split(), data_t))\n",
    "data_t_pad = pad_sequences(data_t_split, maxlen=100)\n",
    "\n",
    "data_en_split = list(map(lambda x: x.split(), data_en))\n",
    "data_en_pad = pad_sequences(data_en_split, maxlen=100)"
   ]
  },
  {
   "cell_type": "code",
   "execution_count": 51,
   "metadata": {},
   "outputs": [],
   "source": [
    "def get_embed(model,sentence):\n",
    "    embed = []\n",
    "    for word in sentence:\n",
    "        embed.append(model.get_word_vector(word))\n",
    "\n",
    "    embed = np.stack(embed, axis=0).astype(np.float32)\n",
    "    return embed"
   ]
  },
  {
   "cell_type": "code",
   "execution_count": 54,
   "metadata": {},
   "outputs": [],
   "source": [
    "t_embed = []\n",
    "for sentence in data_t_pad:\n",
    "    t_embed += [get_embed(model_t,sentence)]\n",
    "\n",
    "en_embed = []\n",
    "for sentence in data_en_pad:\n",
    "    en_embed += [get_embed(model_en,sentence)]\n"
   ]
  },
  {
   "cell_type": "code",
   "execution_count": 55,
   "metadata": {},
   "outputs": [],
   "source": [
    "t_embed = np.stack(t_embed, axis=0).astype(np.float32)\n",
    "en_embed = np.stack(en_embed, axis=0).astype(np.float32)\n"
   ]
  },
  {
   "cell_type": "code",
   "execution_count": 58,
   "metadata": {},
   "outputs": [],
   "source": [
    "from keras.callbacks import EarlyStopping"
   ]
  },
  {
   "cell_type": "code",
   "execution_count": 142,
   "metadata": {},
   "outputs": [
    {
     "name": "stdout",
     "output_type": "stream",
     "text": [
      "Model: \"sequential_7\"\n",
      "_________________________________________________________________\n",
      " Layer (type)                Output Shape              Param #   \n",
      "=================================================================\n",
      " bidirectional (Bidirectiona  (None, 100, 256)         234496    \n",
      " l)                                                              \n",
      "                                                                 \n",
      " bidirectional_1 (Bidirectio  (None, 100, 256)         394240    \n",
      " nal)                                                            \n",
      "                                                                 \n",
      " bidirectional_2 (Bidirectio  (None, 100, 256)         394240    \n",
      " nal)                                                            \n",
      "                                                                 \n",
      " bidirectional_3 (Bidirectio  (None, 100, 256)         394240    \n",
      " nal)                                                            \n",
      "                                                                 \n",
      " bidirectional_4 (Bidirectio  (None, 100, 256)         394240    \n",
      " nal)                                                            \n",
      "                                                                 \n",
      " bidirectional_5 (Bidirectio  (None, 100, 256)         394240    \n",
      " nal)                                                            \n",
      "                                                                 \n",
      " dense_7 (Dense)             (None, 100, 100)          25700     \n",
      "                                                                 \n",
      "=================================================================\n",
      "Total params: 2,231,396\n",
      "Trainable params: 2,231,396\n",
      "Non-trainable params: 0\n",
      "_________________________________________________________________\n"
     ]
    }
   ],
   "source": [
    "model = Sequential()\n",
    "model.add(Bidirectional(LSTM(128, return_sequences=True)))\n",
    "model.add(Bidirectional(LSTM(128, return_sequences=True)))\n",
    "model.add(Bidirectional(LSTM(128, return_sequences=True)))\n",
    "model.add(Bidirectional(LSTM(128, return_sequences=True)))\n",
    "model.add(Bidirectional(LSTM(128, return_sequences=True)))\n",
    "model.add(Bidirectional(LSTM(128, return_sequences=True)))\n",
    "model.add(Dense(100, activation='relu'))\n",
    "model.compile(optimizer='adam', loss='mean_squared_error', metrics=['accuracy'])\n",
    "model.build(input_shape=(None, 100, 100))\n",
    "model.summary()"
   ]
  },
  {
   "cell_type": "code",
   "execution_count": 143,
   "metadata": {},
   "outputs": [
    {
     "name": "stdout",
     "output_type": "stream",
     "text": [
      "Epoch 1/10\n",
      "32/32 [==============================] - 22s 266ms/step - loss: 0.0032 - accuracy: 0.1573\n",
      "Epoch 2/10\n",
      "32/32 [==============================] - 5s 145ms/step - loss: 0.0029 - accuracy: 0.4148\n",
      "Epoch 3/10\n",
      "32/32 [==============================] - 4s 139ms/step - loss: 0.0029 - accuracy: 0.2205\n",
      "Epoch 4/10\n",
      "32/32 [==============================] - 4s 136ms/step - loss: 0.0029 - accuracy: 0.2229\n"
     ]
    },
    {
     "data": {
      "text/plain": [
       "<keras.callbacks.History at 0x25eed17d8b0>"
      ]
     },
     "execution_count": 143,
     "metadata": {},
     "output_type": "execute_result"
    }
   ],
   "source": [
    "model.fit(t_embed, en_embed, epochs=10, callbacks=EarlyStopping(monitor='accuracy', min_delta=1e-4, patience=2))"
   ]
  },
  {
   "cell_type": "code",
   "execution_count": null,
   "metadata": {},
   "outputs": [
    {
     "name": "stdout",
     "output_type": "stream",
     "text": [
      "Epoch 1/10\n",
      "32/32 [==============================] - 10s 89ms/step - loss: 0.0037 - accuracy: 0.1236\n",
      "Epoch 2/10\n",
      "32/32 [==============================] - 3s 80ms/step - loss: 0.0030 - accuracy: 0.1753\n",
      "Epoch 3/10\n",
      "32/32 [==============================] - 2s 76ms/step - loss: 0.0029 - accuracy: 0.2162\n",
      "Epoch 4/10\n",
      "32/32 [==============================] - 3s 79ms/step - loss: 0.0029 - accuracy: 0.2232\n",
      "Epoch 5/10\n",
      "32/32 [==============================] - 2s 69ms/step - loss: 0.0029 - accuracy: 0.2206\n",
      "Epoch 6/10\n",
      "32/32 [==============================] - 2s 71ms/step - loss: 0.0028 - accuracy: 0.2239\n",
      "Epoch 7/10\n",
      "32/32 [==============================] - 2s 73ms/step - loss: 0.0028 - accuracy: 0.2223\n",
      "Epoch 8/10\n",
      "32/32 [==============================] - 2s 69ms/step - loss: 0.0028 - accuracy: 0.2211\n"
     ]
    },
    {
     "data": {
      "text/plain": [
       "<keras.callbacks.History at 0x25ed3923790>"
      ]
     },
     "metadata": {},
     "output_type": "display_data"
    }
   ],
   "source": [
    "model.fit(t_embed, en_embed, epochs=10, callbacks=EarlyStopping(monitor='accuracy', min_delta=1e-4, patience=2))"
   ]
  },
  {
   "cell_type": "code",
   "execution_count": 85,
   "metadata": {},
   "outputs": [],
   "source": [
    "def get_word(vector, model):\n",
    "    vectors = [model.get_word_vector(word) for word in model.get_words()]\n",
    "    vectors = np.stack(vectors, axis=0).astype(np.float32)\n",
    "    similarity = vectors @ vector / (np.linalg.norm(vectors, axis=1) * np.linalg.norm(vector))\n",
    "    most_similar_index = np.argmax(similarity)\n",
    "    words = model_en.get_words()\n",
    "    most_similar_word = words[most_similar_index]\n",
    "\n",
    "    return most_similar_word"
   ]
  },
  {
   "cell_type": "code",
   "execution_count": 127,
   "metadata": {},
   "outputs": [],
   "source": [
    "test_input = data_t[69]\n",
    "test_input = test_input.split()"
   ]
  },
  {
   "cell_type": "code",
   "execution_count": 128,
   "metadata": {},
   "outputs": [],
   "source": [
    "test_input_embed = get_embed(model_t, test_input)"
   ]
  },
  {
   "cell_type": "code",
   "execution_count": 129,
   "metadata": {},
   "outputs": [
    {
     "name": "stdout",
     "output_type": "stream",
     "text": [
      "1/1 [==============================] - 1s 1s/step\n"
     ]
    }
   ],
   "source": [
    "test_pred = model.predict(np.expand_dims(test_input_embed, axis=0))"
   ]
  },
  {
   "cell_type": "code",
   "execution_count": 144,
   "metadata": {},
   "outputs": [],
   "source": [
    "y_pred = []\n",
    "for word in test_pred[0]:\n",
    "    y_pred.append(get_word(word, model_en))\n",
    "\n",
    "y_pred = ' '.join(y_pred)"
   ]
  },
  {
   "cell_type": "code",
   "execution_count": 131,
   "metadata": {},
   "outputs": [
    {
     "data": {
      "text/plain": [
       "'if if if if if if if if if if if if if if if if if if if if if if if if if if if'"
      ]
     },
     "execution_count": 131,
     "metadata": {},
     "output_type": "execute_result"
    }
   ],
   "source": [
    "y_pred"
   ]
  },
  {
   "cell_type": "code",
   "execution_count": 146,
   "metadata": {},
   "outputs": [
    {
     "data": {
      "text/plain": [
       "'if if if if if if if if if if if if if if if if if if if if if if if if if if if'"
      ]
     },
     "execution_count": 146,
     "metadata": {},
     "output_type": "execute_result"
    }
   ],
   "source": [
    "y_pred"
   ]
  },
  {
   "cell_type": "code",
   "execution_count": null,
   "metadata": {},
   "outputs": [],
   "source": []
  }
 ],
 "metadata": {
  "kernelspec": {
   "display_name": "gpukeras",
   "language": "python",
   "name": "python3"
  },
  "language_info": {
   "codemirror_mode": {
    "name": "ipython",
    "version": 3
   },
   "file_extension": ".py",
   "mimetype": "text/x-python",
   "name": "python",
   "nbconvert_exporter": "python",
   "pygments_lexer": "ipython3",
   "version": "3.9.18"
  }
 },
 "nbformat": 4,
 "nbformat_minor": 2
}
