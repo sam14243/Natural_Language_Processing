{
 "cells": [
  {
   "cell_type": "code",
   "execution_count": 9,
   "id": "72d28750-81c7-4dae-9439-da5ccfb1d868",
   "metadata": {},
   "outputs": [],
   "source": [
    "import os\n",
    "import json\n",
    "import pandas as pd\n",
    "import re"
   ]
  },
  {
   "cell_type": "code",
   "execution_count": 2,
   "id": "af7ec3a3-bf1f-4eea-b5fd-89722043e129",
   "metadata": {},
   "outputs": [
    {
     "data": {
      "text/plain": [
       "['indices.npy', 'train.jsonl', 'val.jsonl']"
      ]
     },
     "execution_count": 2,
     "metadata": {},
     "output_type": "execute_result"
    }
   ],
   "source": [
    "os.listdir('train-data/gigaword')"
   ]
  },
  {
   "cell_type": "code",
   "execution_count": 3,
   "id": "f05fe2cd-f8f0-4aaa-a5e7-2870a45deb56",
   "metadata": {},
   "outputs": [],
   "source": [
    "data = pd.read_json('./train-data/gigaword/train.jsonl', lines=True)"
   ]
  },
  {
   "cell_type": "code",
   "execution_count": null,
   "id": "51748d71-ca2c-4716-85b6-23aa7f33bfea",
   "metadata": {},
   "outputs": [],
   "source": [
    "data"
   ]
  },
  {
   "cell_type": "code",
   "execution_count": 5,
   "id": "2dd0a1d7-3c8f-4ecf-bc95-49172dbf9f2c",
   "metadata": {},
   "outputs": [],
   "source": [
    "data = data.sample(10000)"
   ]
  },
  {
   "cell_type": "code",
   "execution_count": 6,
   "id": "238f11b2-775f-41bf-bc87-75491f861366",
   "metadata": {},
   "outputs": [],
   "source": [
    "data.reset_index(drop=True, inplace=True)"
   ]
  },
  {
   "cell_type": "code",
   "execution_count": null,
   "id": "f9c95b73",
   "metadata": {},
   "outputs": [],
   "source": [
    "data"
   ]
  },
  {
   "cell_type": "code",
   "execution_count": 10,
   "id": "d3702d3d",
   "metadata": {},
   "outputs": [],
   "source": [
    "def text_cleaner(text):\n",
    "    newString = text.lower()\n",
    "    newString = re.sub(r'\\([^)]*\\)', '', newString)\n",
    "    newString = re.sub('\"','', newString)    \n",
    "    newString = re.sub(r\"'s\\b\",\"\",newString)\n",
    "    newString = re.sub(\"[^a-zA-Z]\", \" \", newString)    \n",
    "    return newString"
   ]
  },
  {
   "cell_type": "code",
   "execution_count": 12,
   "id": "4d4dad05",
   "metadata": {},
   "outputs": [
    {
     "data": {
      "text/plain": [
       "'a coalition of anti immigration and us workers groups launched a television campaign monday in a bid to the halt the entry of     million skilled workers into the united states  '"
      ]
     },
     "execution_count": 12,
     "metadata": {},
     "output_type": "execute_result"
    }
   ],
   "source": [
    "cleaned_text = []\n",
    "for t in data['text']:\n",
    "    cleaned_text.append(text_cleaner(t))\n",
    "cleaned_text[0]"
   ]
  },
  {
   "cell_type": "code",
   "execution_count": 65,
   "id": "17212573",
   "metadata": {},
   "outputs": [],
   "source": [
    "data['text'] = cleaned_text"
   ]
  },
  {
   "cell_type": "code",
   "execution_count": 14,
   "id": "8fd13089",
   "metadata": {},
   "outputs": [],
   "source": [
    "cleaned_summary = []\n",
    "for t in data['summary']:\n",
    "    cleaned_summary.append(text_cleaner(t))\n",
    "for i in range(len(cleaned_summary)):\n",
    "    cleaned_summary[i] = '_START_ '+ cleaned_summary[i] + ' _END_'"
   ]
  },
  {
   "cell_type": "code",
   "execution_count": 66,
   "id": "0fdadafe",
   "metadata": {},
   "outputs": [],
   "source": [
    "data['summary'] = cleaned_summary"
   ]
  },
  {
   "cell_type": "code",
   "execution_count": 19,
   "id": "0e06a830",
   "metadata": {},
   "outputs": [
    {
     "data": {
      "text/plain": [
       "'_START_ anti immigration us group pushes for cutbacks in tv campaign _END_'"
      ]
     },
     "execution_count": 19,
     "metadata": {},
     "output_type": "execute_result"
    }
   ],
   "source": [
    "cleaned_summary[0]"
   ]
  },
  {
   "cell_type": "code",
   "execution_count": 21,
   "id": "708742d8-65d6-426c-851e-fd8403093aef",
   "metadata": {},
   "outputs": [
    {
     "data": {
      "text/plain": [
       "74"
      ]
     },
     "execution_count": 21,
     "metadata": {},
     "output_type": "execute_result"
    }
   ],
   "source": [
    "len(cleaned_summary[0])"
   ]
  },
  {
   "cell_type": "code",
   "execution_count": 67,
   "id": "f8a0376e",
   "metadata": {},
   "outputs": [],
   "source": [
    "from sklearn.model_selection import train_test_split\n",
    "X_train, X_val, y_train, y_val = train_test_split(data['text'], data['summary'], test_size=0.2, random_state=42)"
   ]
  },
  {
   "cell_type": "code",
   "execution_count": 29,
   "id": "3651c7cd",
   "metadata": {},
   "outputs": [
    {
     "data": {
      "text/plain": [
       "8000"
      ]
     },
     "execution_count": 29,
     "metadata": {},
     "output_type": "execute_result"
    }
   ],
   "source": [
    "len(X_train)"
   ]
  },
  {
   "cell_type": "code",
   "execution_count": 31,
   "id": "dd560580-fe4c-46d5-806e-3142c1b64999",
   "metadata": {},
   "outputs": [],
   "source": [
    "import tensorflow as tf"
   ]
  },
  {
   "cell_type": "code",
   "execution_count": 69,
   "id": "8a4966bd-799e-4b88-9170-3e25491e251d",
   "metadata": {},
   "outputs": [],
   "source": [
    "import numpy as np\n",
    "from tensorflow.keras.preprocessing.text import Tokenizer\n",
    "from tensorflow.keras.preprocessing.sequence import pad_sequences\n",
    "from tensorflow.keras.models import Sequential\n",
    "from tensorflow.keras.layers import SimpleRNN, Embedding, GRU, LSTM, Dense, TextVectorization\n",
    "from tensorflow.keras.optimizers import Adam"
   ]
  },
  {
   "cell_type": "code",
   "execution_count": 71,
   "id": "1f927aca",
   "metadata": {},
   "outputs": [],
   "source": [
    "max_vocab = 10000\n",
    "max_len = 100\n",
    "vectorizer = TextVectorization(max_tokens=max_vocab, output_sequence_length=max_len)\n",
    "vectorizer.adapt(X_train.values)\n",
    "X_train_seq = vectorizer(X_train.values)\n",
    "X_val_seq = vectorizer(X_val.values)"
   ]
  },
  {
   "cell_type": "code",
   "execution_count": 72,
   "id": "d91a49ac",
   "metadata": {},
   "outputs": [],
   "source": [
    "vectorizer = TextVectorization(max_tokens=max_vocab, output_sequence_length=max_len)\n",
    "vectorizer.adapt(y_train.values)\n",
    "\n",
    "y_train_seq = vectorizer(y_train.values)\n",
    "y_val_seq = vectorizer(y_val.values)"
   ]
  },
  {
   "cell_type": "code",
   "execution_count": 33,
   "id": "f694ab85-d874-48fa-8d2e-fc02b80aa931",
   "metadata": {},
   "outputs": [
    {
     "name": "stdout",
     "output_type": "stream",
     "text": [
      "Num GPUs Available: 1\n"
     ]
    }
   ],
   "source": [
    "print(\"Num GPUs Available:\", len(tf.config.experimental.list_physical_devices('GPU')))"
   ]
  },
  {
   "cell_type": "code",
   "execution_count": 76,
   "id": "32ab0836",
   "metadata": {},
   "outputs": [
    {
     "name": "stdout",
     "output_type": "stream",
     "text": [
      "Model: \"sequential_5\"\n",
      "_________________________________________________________________\n",
      " Layer (type)                Output Shape              Param #   \n",
      "=================================================================\n",
      " embedding_12 (Embedding)    (None, None, 128)         1280000   \n",
      "                                                                 \n",
      " simple_rnn_16 (SimpleRNN)   (None, None, 128)         32896     \n",
      "                                                                 \n",
      " simple_rnn_17 (SimpleRNN)   (None, None, 128)         32896     \n",
      "                                                                 \n",
      " dense_3 (Dense)             (None, None, 10000)       1290000   \n",
      "                                                                 \n",
      "=================================================================\n",
      "Total params: 2,635,792\n",
      "Trainable params: 2,635,792\n",
      "Non-trainable params: 0\n",
      "_________________________________________________________________\n"
     ]
    }
   ],
   "source": [
    "model = Sequential()\n",
    "model.add(Embedding(max_vocab, 128))\n",
    "model.add(SimpleRNN(128, return_sequences=True))\n",
    "model.add(SimpleRNN(128, return_sequences=True))\n",
    "model.add(Dense(max_vocab, activation='softmax'))\n",
    "model.summary()"
   ]
  },
  {
   "cell_type": "code",
   "execution_count": 77,
   "id": "e180de9a",
   "metadata": {},
   "outputs": [
    {
     "name": "stdout",
     "output_type": "stream",
     "text": [
      "Epoch 1/5\n",
      "63/63 [==============================] - 20s 290ms/step - loss: 2.4226 - accuracy: 0.8824 - val_loss: 0.9963 - val_accuracy: 0.9073\n",
      "Epoch 2/5\n",
      "63/63 [==============================] - 18s 286ms/step - loss: 0.8272 - accuracy: 0.9112 - val_loss: 0.6883 - val_accuracy: 0.9113\n",
      "Epoch 3/5\n",
      "63/63 [==============================] - 17s 271ms/step - loss: 0.6601 - accuracy: 0.9139 - val_loss: 0.6628 - val_accuracy: 0.9139\n",
      "Epoch 4/5\n",
      "63/63 [==============================] - 17s 274ms/step - loss: 0.6399 - accuracy: 0.9150 - val_loss: 0.6594 - val_accuracy: 0.9139\n",
      "Epoch 5/5\n",
      "63/63 [==============================] - 17s 273ms/step - loss: 0.6301 - accuracy: 0.9154 - val_loss: 0.6653 - val_accuracy: 0.9137\n"
     ]
    },
    {
     "data": {
      "text/plain": [
       "<keras.callbacks.History at 0x154358d2640>"
      ]
     },
     "execution_count": 77,
     "metadata": {},
     "output_type": "execute_result"
    }
   ],
   "source": [
    "model.compile(loss='sparse_categorical_crossentropy', optimizer=Adam(learning_rate=0.002), metrics=['accuracy'])\n",
    "\n",
    "model.fit(X_train_seq, y_train_seq, validation_data=(X_val_seq, y_val_seq), epochs=5, batch_size=128)"
   ]
  },
  {
   "cell_type": "code",
   "execution_count": 78,
   "id": "9daafcd5",
   "metadata": {},
   "outputs": [],
   "source": [
    "model_lstm = Sequential()\n",
    "model_lstm.add(Embedding(max_vocab, 128))\n",
    "model_lstm.add(LSTM(128, return_sequences=True))\n",
    "model_lstm.add(LSTM(128, return_sequences=True))\n",
    "model_lstm.add(Dense(max_vocab, activation='softmax'))"
   ]
  },
  {
   "cell_type": "code",
   "execution_count": 79,
   "id": "1e0a016c",
   "metadata": {},
   "outputs": [
    {
     "name": "stdout",
     "output_type": "stream",
     "text": [
      "Epoch 1/5\n",
      "63/63 [==============================] - 43s 174ms/step - loss: 2.5021 - accuracy: 0.8868 - val_loss: 0.9158 - val_accuracy: 0.9063\n",
      "Epoch 2/5\n",
      "63/63 [==============================] - 10s 160ms/step - loss: 0.8230 - accuracy: 0.9109 - val_loss: 0.7754 - val_accuracy: 0.9112\n",
      "Epoch 3/5\n",
      "63/63 [==============================] - 11s 168ms/step - loss: 0.7417 - accuracy: 0.9135 - val_loss: 0.7242 - val_accuracy: 0.9130\n",
      "Epoch 4/5\n",
      "63/63 [==============================] - 11s 169ms/step - loss: 0.6762 - accuracy: 0.9141 - val_loss: 0.6719 - val_accuracy: 0.9134\n",
      "Epoch 5/5\n",
      "63/63 [==============================] - 10s 154ms/step - loss: 0.6425 - accuracy: 0.9149 - val_loss: 0.6725 - val_accuracy: 0.9139\n"
     ]
    },
    {
     "data": {
      "text/plain": [
       "<keras.callbacks.History at 0x1543a5e0490>"
      ]
     },
     "execution_count": 79,
     "metadata": {},
     "output_type": "execute_result"
    }
   ],
   "source": [
    "model_lstm.compile(loss='sparse_categorical_crossentropy', optimizer=Adam(learning_rate=0.002), metrics=['accuracy'])\n",
    "\n",
    "model_lstm.fit(X_train_seq, y_train_seq, validation_data=(X_val_seq, y_val_seq), epochs=5, batch_size=128)"
   ]
  },
  {
   "cell_type": "code",
   "execution_count": 80,
   "id": "d94062d6",
   "metadata": {},
   "outputs": [],
   "source": [
    "model_gru = Sequential()\n",
    "model_gru.add(Embedding(max_vocab, 128))\n",
    "model_gru.add(GRU(128, return_sequences=True))\n",
    "model_gru.add(GRU(128, return_sequences=True))\n",
    "model_gru.add(Dense(max_vocab, activation='softmax'))"
   ]
  },
  {
   "cell_type": "code",
   "execution_count": 81,
   "id": "90ebc38b",
   "metadata": {},
   "outputs": [
    {
     "name": "stdout",
     "output_type": "stream",
     "text": [
      "Epoch 1/5\n",
      "63/63 [==============================] - 15s 183ms/step - loss: 2.4337 - accuracy: 0.8870 - val_loss: 0.8268 - val_accuracy: 0.9010\n",
      "Epoch 2/5\n",
      "63/63 [==============================] - 10s 153ms/step - loss: 0.7914 - accuracy: 0.9016 - val_loss: 0.7739 - val_accuracy: 0.9010\n",
      "Epoch 3/5\n",
      "63/63 [==============================] - 10s 153ms/step - loss: 0.7281 - accuracy: 0.9095 - val_loss: 0.6965 - val_accuracy: 0.9109\n",
      "Epoch 4/5\n",
      "63/63 [==============================] - 9s 150ms/step - loss: 0.6696 - accuracy: 0.9117 - val_loss: 0.6745 - val_accuracy: 0.9117\n",
      "Epoch 5/5\n",
      "63/63 [==============================] - 11s 170ms/step - loss: 0.6545 - accuracy: 0.9132 - val_loss: 0.6678 - val_accuracy: 0.9131\n"
     ]
    },
    {
     "data": {
      "text/plain": [
       "<keras.callbacks.History at 0x154403f1be0>"
      ]
     },
     "execution_count": 81,
     "metadata": {},
     "output_type": "execute_result"
    }
   ],
   "source": [
    "model_gru.compile(loss='sparse_categorical_crossentropy', optimizer=Adam(learning_rate=0.002), metrics=['accuracy'])\n",
    "\n",
    "model_gru.fit(X_train_seq, y_train_seq, validation_data=(X_val_seq, y_val_seq), epochs=5, batch_size=128)"
   ]
  },
  {
   "cell_type": "code",
   "execution_count": null,
   "id": "310562b6",
   "metadata": {},
   "outputs": [],
   "source": []
  }
 ],
 "metadata": {
  "kernelspec": {
   "display_name": "gpukeras",
   "language": "python",
   "name": "python3"
  },
  "language_info": {
   "codemirror_mode": {
    "name": "ipython",
    "version": 3
   },
   "file_extension": ".py",
   "mimetype": "text/x-python",
   "name": "python",
   "nbconvert_exporter": "python",
   "pygments_lexer": "ipython3",
   "version": "3.9.18"
  }
 },
 "nbformat": 4,
 "nbformat_minor": 5
}
